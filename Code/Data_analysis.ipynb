{
 "cells": [
  {
   "cell_type": "markdown",
   "metadata": {},
   "source": [
    "# **Data Analysis**\n",
    "\n",
    "#### This file analyses the data to check for various characteristics \n",
    "\n",
    "\n"
   ]
  },
  {
   "cell_type": "code",
   "execution_count": 24,
   "metadata": {},
   "outputs": [],
   "source": [
    "import pandas as pd \n",
    "import numpy as np\n",
    "from matplotlib import pyplot as plt\n",
    "from Bio import SeqIO\n",
    "from Bio.SeqUtils import GC"
   ]
  },
  {
   "cell_type": "markdown",
   "metadata": {},
   "source": [
    "### **K-mer data analyses**"
   ]
  },
  {
   "cell_type": "code",
   "execution_count": 26,
   "metadata": {},
   "outputs": [],
   "source": [
    "# This analysis code is common for all the k-mers.\n",
    "#  For analyses of different k-mers just change the file name and run the same code.\n",
    "# eg- change \"Data/k(5)mer_data.csv\" to \"Data/k(6)mer_data.csv\" for hexamer analyses.\n",
    "data = pd.read_csv(r\"C:\\Users\\anant\\Documents\\GitHub\\Taxonomic_classifier\\Data\\k(7)mer_data.csv\").drop(\"Unnamed: 0\", axis=1)"
   ]
  },
  {
   "cell_type": "code",
   "execution_count": 27,
   "metadata": {},
   "outputs": [
    {
     "data": {
      "text/html": [
       "<div>\n",
       "<style scoped>\n",
       "    .dataframe tbody tr th:only-of-type {\n",
       "        vertical-align: middle;\n",
       "    }\n",
       "\n",
       "    .dataframe tbody tr th {\n",
       "        vertical-align: top;\n",
       "    }\n",
       "\n",
       "    .dataframe thead th {\n",
       "        text-align: right;\n",
       "    }\n",
       "</style>\n",
       "<table border=\"1\" class=\"dataframe\">\n",
       "  <thead>\n",
       "    <tr style=\"text-align: right;\">\n",
       "      <th></th>\n",
       "      <th>AAAAAAA</th>\n",
       "      <th>AAAAAAT</th>\n",
       "      <th>AAAAAAC</th>\n",
       "      <th>AAAAAAG</th>\n",
       "      <th>AAAAATA</th>\n",
       "      <th>AAAAATT</th>\n",
       "      <th>AAAAATC</th>\n",
       "      <th>AAAAATG</th>\n",
       "      <th>AAAAACA</th>\n",
       "      <th>AAAAACT</th>\n",
       "      <th>...</th>\n",
       "      <th>GGGGGTC</th>\n",
       "      <th>GGGGGTG</th>\n",
       "      <th>GGGGGCA</th>\n",
       "      <th>GGGGGCT</th>\n",
       "      <th>GGGGGCC</th>\n",
       "      <th>GGGGGCG</th>\n",
       "      <th>GGGGGGA</th>\n",
       "      <th>GGGGGGT</th>\n",
       "      <th>GGGGGGC</th>\n",
       "      <th>GGGGGGG</th>\n",
       "    </tr>\n",
       "  </thead>\n",
       "  <tbody>\n",
       "    <tr>\n",
       "      <th>count</th>\n",
       "      <td>13252.000000</td>\n",
       "      <td>13252.000000</td>\n",
       "      <td>13252.000000</td>\n",
       "      <td>13252.000000</td>\n",
       "      <td>13252.000000</td>\n",
       "      <td>13252.000000</td>\n",
       "      <td>13252.000000</td>\n",
       "      <td>13252.000000</td>\n",
       "      <td>13252.000000</td>\n",
       "      <td>13252.000000</td>\n",
       "      <td>...</td>\n",
       "      <td>13252.000000</td>\n",
       "      <td>13252.000000</td>\n",
       "      <td>13252.000000</td>\n",
       "      <td>13252.000000</td>\n",
       "      <td>13252.000000</td>\n",
       "      <td>13252.000000</td>\n",
       "      <td>13252.000000</td>\n",
       "      <td>13252.000000</td>\n",
       "      <td>13252.000000</td>\n",
       "      <td>13252.000000</td>\n",
       "    </tr>\n",
       "    <tr>\n",
       "      <th>mean</th>\n",
       "      <td>0.012979</td>\n",
       "      <td>0.014639</td>\n",
       "      <td>0.015696</td>\n",
       "      <td>0.010640</td>\n",
       "      <td>0.017507</td>\n",
       "      <td>0.005961</td>\n",
       "      <td>0.006716</td>\n",
       "      <td>0.011395</td>\n",
       "      <td>0.006942</td>\n",
       "      <td>0.018488</td>\n",
       "      <td>...</td>\n",
       "      <td>0.029882</td>\n",
       "      <td>0.076215</td>\n",
       "      <td>0.162013</td>\n",
       "      <td>0.099004</td>\n",
       "      <td>0.775430</td>\n",
       "      <td>0.083685</td>\n",
       "      <td>0.127981</td>\n",
       "      <td>0.293842</td>\n",
       "      <td>0.056746</td>\n",
       "      <td>0.037428</td>\n",
       "    </tr>\n",
       "    <tr>\n",
       "      <th>std</th>\n",
       "      <td>0.150407</td>\n",
       "      <td>0.140388</td>\n",
       "      <td>0.129066</td>\n",
       "      <td>0.106217</td>\n",
       "      <td>0.137338</td>\n",
       "      <td>0.097717</td>\n",
       "      <td>0.083506</td>\n",
       "      <td>0.106848</td>\n",
       "      <td>0.088319</td>\n",
       "      <td>0.134712</td>\n",
       "      <td>...</td>\n",
       "      <td>0.172033</td>\n",
       "      <td>0.271258</td>\n",
       "      <td>0.398582</td>\n",
       "      <td>0.318013</td>\n",
       "      <td>0.449694</td>\n",
       "      <td>0.317311</td>\n",
       "      <td>0.370294</td>\n",
       "      <td>0.462933</td>\n",
       "      <td>0.254657</td>\n",
       "      <td>0.215159</td>\n",
       "    </tr>\n",
       "    <tr>\n",
       "      <th>min</th>\n",
       "      <td>0.000000</td>\n",
       "      <td>0.000000</td>\n",
       "      <td>0.000000</td>\n",
       "      <td>0.000000</td>\n",
       "      <td>0.000000</td>\n",
       "      <td>0.000000</td>\n",
       "      <td>0.000000</td>\n",
       "      <td>0.000000</td>\n",
       "      <td>0.000000</td>\n",
       "      <td>0.000000</td>\n",
       "      <td>...</td>\n",
       "      <td>0.000000</td>\n",
       "      <td>0.000000</td>\n",
       "      <td>0.000000</td>\n",
       "      <td>0.000000</td>\n",
       "      <td>0.000000</td>\n",
       "      <td>0.000000</td>\n",
       "      <td>0.000000</td>\n",
       "      <td>0.000000</td>\n",
       "      <td>0.000000</td>\n",
       "      <td>0.000000</td>\n",
       "    </tr>\n",
       "    <tr>\n",
       "      <th>25%</th>\n",
       "      <td>0.000000</td>\n",
       "      <td>0.000000</td>\n",
       "      <td>0.000000</td>\n",
       "      <td>0.000000</td>\n",
       "      <td>0.000000</td>\n",
       "      <td>0.000000</td>\n",
       "      <td>0.000000</td>\n",
       "      <td>0.000000</td>\n",
       "      <td>0.000000</td>\n",
       "      <td>0.000000</td>\n",
       "      <td>...</td>\n",
       "      <td>0.000000</td>\n",
       "      <td>0.000000</td>\n",
       "      <td>0.000000</td>\n",
       "      <td>0.000000</td>\n",
       "      <td>1.000000</td>\n",
       "      <td>0.000000</td>\n",
       "      <td>0.000000</td>\n",
       "      <td>0.000000</td>\n",
       "      <td>0.000000</td>\n",
       "      <td>0.000000</td>\n",
       "    </tr>\n",
       "    <tr>\n",
       "      <th>50%</th>\n",
       "      <td>0.000000</td>\n",
       "      <td>0.000000</td>\n",
       "      <td>0.000000</td>\n",
       "      <td>0.000000</td>\n",
       "      <td>0.000000</td>\n",
       "      <td>0.000000</td>\n",
       "      <td>0.000000</td>\n",
       "      <td>0.000000</td>\n",
       "      <td>0.000000</td>\n",
       "      <td>0.000000</td>\n",
       "      <td>...</td>\n",
       "      <td>0.000000</td>\n",
       "      <td>0.000000</td>\n",
       "      <td>0.000000</td>\n",
       "      <td>0.000000</td>\n",
       "      <td>1.000000</td>\n",
       "      <td>0.000000</td>\n",
       "      <td>0.000000</td>\n",
       "      <td>0.000000</td>\n",
       "      <td>0.000000</td>\n",
       "      <td>0.000000</td>\n",
       "    </tr>\n",
       "    <tr>\n",
       "      <th>75%</th>\n",
       "      <td>0.000000</td>\n",
       "      <td>0.000000</td>\n",
       "      <td>0.000000</td>\n",
       "      <td>0.000000</td>\n",
       "      <td>0.000000</td>\n",
       "      <td>0.000000</td>\n",
       "      <td>0.000000</td>\n",
       "      <td>0.000000</td>\n",
       "      <td>0.000000</td>\n",
       "      <td>0.000000</td>\n",
       "      <td>...</td>\n",
       "      <td>0.000000</td>\n",
       "      <td>0.000000</td>\n",
       "      <td>0.000000</td>\n",
       "      <td>0.000000</td>\n",
       "      <td>1.000000</td>\n",
       "      <td>0.000000</td>\n",
       "      <td>0.000000</td>\n",
       "      <td>1.000000</td>\n",
       "      <td>0.000000</td>\n",
       "      <td>0.000000</td>\n",
       "    </tr>\n",
       "    <tr>\n",
       "      <th>max</th>\n",
       "      <td>8.000000</td>\n",
       "      <td>4.000000</td>\n",
       "      <td>2.000000</td>\n",
       "      <td>3.000000</td>\n",
       "      <td>4.000000</td>\n",
       "      <td>4.000000</td>\n",
       "      <td>2.000000</td>\n",
       "      <td>2.000000</td>\n",
       "      <td>2.000000</td>\n",
       "      <td>1.000000</td>\n",
       "      <td>...</td>\n",
       "      <td>2.000000</td>\n",
       "      <td>2.000000</td>\n",
       "      <td>4.000000</td>\n",
       "      <td>2.000000</td>\n",
       "      <td>4.000000</td>\n",
       "      <td>5.000000</td>\n",
       "      <td>4.000000</td>\n",
       "      <td>3.000000</td>\n",
       "      <td>4.000000</td>\n",
       "      <td>4.000000</td>\n",
       "    </tr>\n",
       "  </tbody>\n",
       "</table>\n",
       "<p>8 rows × 16384 columns</p>\n",
       "</div>"
      ],
      "text/plain": [
       "            AAAAAAA       AAAAAAT       AAAAAAC       AAAAAAG       AAAAATA  \\\n",
       "count  13252.000000  13252.000000  13252.000000  13252.000000  13252.000000   \n",
       "mean       0.012979      0.014639      0.015696      0.010640      0.017507   \n",
       "std        0.150407      0.140388      0.129066      0.106217      0.137338   \n",
       "min        0.000000      0.000000      0.000000      0.000000      0.000000   \n",
       "25%        0.000000      0.000000      0.000000      0.000000      0.000000   \n",
       "50%        0.000000      0.000000      0.000000      0.000000      0.000000   \n",
       "75%        0.000000      0.000000      0.000000      0.000000      0.000000   \n",
       "max        8.000000      4.000000      2.000000      3.000000      4.000000   \n",
       "\n",
       "            AAAAATT       AAAAATC       AAAAATG       AAAAACA       AAAAACT  \\\n",
       "count  13252.000000  13252.000000  13252.000000  13252.000000  13252.000000   \n",
       "mean       0.005961      0.006716      0.011395      0.006942      0.018488   \n",
       "std        0.097717      0.083506      0.106848      0.088319      0.134712   \n",
       "min        0.000000      0.000000      0.000000      0.000000      0.000000   \n",
       "25%        0.000000      0.000000      0.000000      0.000000      0.000000   \n",
       "50%        0.000000      0.000000      0.000000      0.000000      0.000000   \n",
       "75%        0.000000      0.000000      0.000000      0.000000      0.000000   \n",
       "max        4.000000      2.000000      2.000000      2.000000      1.000000   \n",
       "\n",
       "       ...       GGGGGTC       GGGGGTG       GGGGGCA       GGGGGCT  \\\n",
       "count  ...  13252.000000  13252.000000  13252.000000  13252.000000   \n",
       "mean   ...      0.029882      0.076215      0.162013      0.099004   \n",
       "std    ...      0.172033      0.271258      0.398582      0.318013   \n",
       "min    ...      0.000000      0.000000      0.000000      0.000000   \n",
       "25%    ...      0.000000      0.000000      0.000000      0.000000   \n",
       "50%    ...      0.000000      0.000000      0.000000      0.000000   \n",
       "75%    ...      0.000000      0.000000      0.000000      0.000000   \n",
       "max    ...      2.000000      2.000000      4.000000      2.000000   \n",
       "\n",
       "            GGGGGCC       GGGGGCG       GGGGGGA       GGGGGGT       GGGGGGC  \\\n",
       "count  13252.000000  13252.000000  13252.000000  13252.000000  13252.000000   \n",
       "mean       0.775430      0.083685      0.127981      0.293842      0.056746   \n",
       "std        0.449694      0.317311      0.370294      0.462933      0.254657   \n",
       "min        0.000000      0.000000      0.000000      0.000000      0.000000   \n",
       "25%        1.000000      0.000000      0.000000      0.000000      0.000000   \n",
       "50%        1.000000      0.000000      0.000000      0.000000      0.000000   \n",
       "75%        1.000000      0.000000      0.000000      1.000000      0.000000   \n",
       "max        4.000000      5.000000      4.000000      3.000000      4.000000   \n",
       "\n",
       "            GGGGGGG  \n",
       "count  13252.000000  \n",
       "mean       0.037428  \n",
       "std        0.215159  \n",
       "min        0.000000  \n",
       "25%        0.000000  \n",
       "50%        0.000000  \n",
       "75%        0.000000  \n",
       "max        4.000000  \n",
       "\n",
       "[8 rows x 16384 columns]"
      ]
     },
     "execution_count": 27,
     "metadata": {},
     "output_type": "execute_result"
    }
   ],
   "source": [
    "data.describe()"
   ]
  },
  {
   "cell_type": "code",
   "execution_count": 28,
   "metadata": {},
   "outputs": [
    {
     "data": {
      "text/plain": [
       "<AxesSubplot:title={'center':'Frequency of AAAAAAA kmer across sequences'}, xlabel='Sequences', ylabel='Occurance'>"
      ]
     },
     "execution_count": 28,
     "metadata": {},
     "output_type": "execute_result"
    },
    {
     "data": {
      "image/png": "[encoded data removed]",
      "text/plain": [
       "<Figure size 432x288 with 1 Axes>"
      ]
     },
     "metadata": {
      "needs_background": "light"
     },
     "output_type": "display_data"
    }
   ],
   "source": [
    "\n",
    "data[data.columns[0]].plot(title=\"Frequency of {} kmer across sequences\".format(data.columns[0])\n",
    ", xlabel=\"Sequences\", ylabel=\"Occurance\")\n",
    "# the following graph shows the distribution of the first k-mer of 'A'(adenosine) repeats present across the 13252 sequences\n",
    "# the variability of the k-mer across sequences shows that it can be used for prediction"
   ]
  },
  {
   "cell_type": "code",
   "execution_count": 29,
   "metadata": {},
   "outputs": [],
   "source": [
    "\n",
    "values = data.values.reshape(1, data.values.size)\n",
    "unique, counts = np.unique(values, return_counts=True)\n",
    "# converting counts to ratios\n",
    "counts = counts/counts.sum()\n"
   ]
  },
  {
   "cell_type": "code",
   "execution_count": 30,
   "metadata": {},
   "outputs": [
    {
     "data": {
      "image/png": "[encoded data removed]",
      "text/plain": [
       "<Figure size 432x288 with 1 Axes>"
      ]
     },
     "metadata": {
      "needs_background": "light"
     },
     "output_type": "display_data"
    }
   ],
   "source": [
    "fig, ax = plt.subplots()\n",
    "plt.title(\"frequency of kmer repeats across the database\")\n",
    "plt.xlabel('Repeat_size')\n",
    "plt.ylabel(\"Occurance\")\n",
    "ax.set_xticks(np.arange(0,max(unique)+1, 1))\n",
    "ax.set_yticks(np.arange(0,max(counts), 0.1))\n",
    "plt.bar(unique, counts)\n",
    "plt.show()"
   ]
  },
  {
   "cell_type": "code",
   "execution_count": 31,
   "metadata": {},
   "outputs": [
    {
     "data": {
      "image/png": "[encoded data removed]",
      "text/plain": [
       "<Figure size 432x288 with 1 Axes>"
      ]
     },
     "metadata": {
      "needs_background": "light"
     },
     "output_type": "display_data"
    }
   ],
   "source": [
    "import numpy as np\n",
    "import matplotlib.pyplot as plt\n",
    "import matplotlib.ticker as ticker\n",
    "\n",
    "x = [0,5,9,10,15]\n",
    "y = [0,1,2,3,4]\n",
    "fig, ax = plt.subplots()\n",
    "ax.plot(x,y)\n",
    "start, end = ax.get_xlim()\n",
    "ax.xaxis.set_ticks(np.arange(0, end, 1))\n",
    "# ax.xaxis.set_major_formatter(ticker.FormatStrFormatter('%0.1f'))\n",
    "plt.show()"
   ]
  },
  {
   "cell_type": "markdown",
   "metadata": {},
   "source": [
    "### **Taxonomy data analysis**"
   ]
  },
  {
   "cell_type": "code",
   "execution_count": 32,
   "metadata": {},
   "outputs": [],
   "source": [
    "data = pd.read_csv(r\"C:\\Users\\anant\\Documents\\GitHub\\Taxonomic_classifier\\Data\\Taxonomic_data.csv\")"
   ]
  },
  {
   "cell_type": "code",
   "execution_count": 33,
   "metadata": {},
   "outputs": [
    {
     "data": {
      "text/html": [
       "<div>\n",
       "<style scoped>\n",
       "    .dataframe tbody tr th:only-of-type {\n",
       "        vertical-align: middle;\n",
       "    }\n",
       "\n",
       "    .dataframe tbody tr th {\n",
       "        vertical-align: top;\n",
       "    }\n",
       "\n",
       "    .dataframe thead th {\n",
       "        text-align: right;\n",
       "    }\n",
       "</style>\n",
       "<table border=\"1\" class=\"dataframe\">\n",
       "  <thead>\n",
       "    <tr style=\"text-align: right;\">\n",
       "      <th></th>\n",
       "      <th>ID</th>\n",
       "      <th>Strain</th>\n",
       "      <th>Domain</th>\n",
       "      <th>Phylum</th>\n",
       "      <th>Class</th>\n",
       "      <th>Order</th>\n",
       "      <th>Family</th>\n",
       "      <th>Genus</th>\n",
       "      <th>Species</th>\n",
       "    </tr>\n",
       "  </thead>\n",
       "  <tbody>\n",
       "    <tr>\n",
       "      <th>count</th>\n",
       "      <td>13252</td>\n",
       "      <td>13252</td>\n",
       "      <td>13252</td>\n",
       "      <td>13252</td>\n",
       "      <td>13252</td>\n",
       "      <td>13252</td>\n",
       "      <td>13252</td>\n",
       "      <td>13252</td>\n",
       "      <td>13252</td>\n",
       "    </tr>\n",
       "    <tr>\n",
       "      <th>unique</th>\n",
       "      <td>13252</td>\n",
       "      <td>6444</td>\n",
       "      <td>2</td>\n",
       "      <td>37</td>\n",
       "      <td>72</td>\n",
       "      <td>145</td>\n",
       "      <td>306</td>\n",
       "      <td>924</td>\n",
       "      <td>2621</td>\n",
       "    </tr>\n",
       "    <tr>\n",
       "      <th>top</th>\n",
       "      <td>NC_009925_01</td>\n",
       "      <td>Rhodospirillum photometricum DSM 122</td>\n",
       "      <td>Bacteria</td>\n",
       "      <td>Proteobacteria</td>\n",
       "      <td>Gammaproteobacteria</td>\n",
       "      <td>Enterobacteriales</td>\n",
       "      <td>Enterobacteriaceae</td>\n",
       "      <td>Escherichia</td>\n",
       "      <td>Escherichia coli</td>\n",
       "    </tr>\n",
       "    <tr>\n",
       "      <th>freq</th>\n",
       "      <td>1</td>\n",
       "      <td>17</td>\n",
       "      <td>12990</td>\n",
       "      <td>6111</td>\n",
       "      <td>4057</td>\n",
       "      <td>2199</td>\n",
       "      <td>2199</td>\n",
       "      <td>917</td>\n",
       "      <td>894</td>\n",
       "    </tr>\n",
       "  </tbody>\n",
       "</table>\n",
       "</div>"
      ],
      "text/plain": [
       "                  ID                                Strain    Domain  \\\n",
       "count          13252                                 13252     13252   \n",
       "unique         13252                                  6444         2   \n",
       "top     NC_009925_01  Rhodospirillum photometricum DSM 122  Bacteria   \n",
       "freq               1                                    17     12990   \n",
       "\n",
       "                Phylum                Class              Order  \\\n",
       "count            13252                13252              13252   \n",
       "unique              37                   72                145   \n",
       "top     Proteobacteria  Gammaproteobacteria  Enterobacteriales   \n",
       "freq              6111                 4057               2199   \n",
       "\n",
       "                    Family        Genus           Species  \n",
       "count                13252        13252             13252  \n",
       "unique                 306          924              2621  \n",
       "top     Enterobacteriaceae  Escherichia  Escherichia coli  \n",
       "freq                  2199          917               894  "
      ]
     },
     "execution_count": 33,
     "metadata": {},
     "output_type": "execute_result"
    }
   ],
   "source": [
    "data.describe()"
   ]
  },
  {
   "cell_type": "code",
   "execution_count": 34,
   "metadata": {},
   "outputs": [
    {
     "data": {
      "text/plain": [
       "array(['Bacteria', 'Archaea'], dtype=object)"
      ]
     },
     "execution_count": 34,
     "metadata": {},
     "output_type": "execute_result"
    }
   ],
   "source": [
    "data[\"Domain\"].unique()"
   ]
  },
  {
   "cell_type": "code",
   "execution_count": 35,
   "metadata": {},
   "outputs": [],
   "source": [
    "y = pd.read_csv(r\"C:\\Users\\anant\\Documents\\GitHub\\Taxonomic_classifier\\Data\\Taxonomic_data.csv\", usecols=['Species'])"
   ]
  },
  {
   "cell_type": "code",
   "execution_count": 36,
   "metadata": {},
   "outputs": [
    {
     "data": {
      "text/html": [
       "<div>\n",
       "<style scoped>\n",
       "    .dataframe tbody tr th:only-of-type {\n",
       "        vertical-align: middle;\n",
       "    }\n",
       "\n",
       "    .dataframe tbody tr th {\n",
       "        vertical-align: top;\n",
       "    }\n",
       "\n",
       "    .dataframe thead th {\n",
       "        text-align: right;\n",
       "    }\n",
       "</style>\n",
       "<table border=\"1\" class=\"dataframe\">\n",
       "  <thead>\n",
       "    <tr style=\"text-align: right;\">\n",
       "      <th></th>\n",
       "      <th>Species</th>\n",
       "    </tr>\n",
       "  </thead>\n",
       "  <tbody>\n",
       "    <tr>\n",
       "      <th>count</th>\n",
       "      <td>13252</td>\n",
       "    </tr>\n",
       "    <tr>\n",
       "      <th>unique</th>\n",
       "      <td>2621</td>\n",
       "    </tr>\n",
       "    <tr>\n",
       "      <th>top</th>\n",
       "      <td>Escherichia coli</td>\n",
       "    </tr>\n",
       "    <tr>\n",
       "      <th>freq</th>\n",
       "      <td>894</td>\n",
       "    </tr>\n",
       "  </tbody>\n",
       "</table>\n",
       "</div>"
      ],
      "text/plain": [
       "                 Species\n",
       "count              13252\n",
       "unique              2621\n",
       "top     Escherichia coli\n",
       "freq                 894"
      ]
     },
     "execution_count": 36,
     "metadata": {},
     "output_type": "execute_result"
    }
   ],
   "source": [
    "y.describe()"
   ]
  },
  {
   "cell_type": "code",
   "execution_count": 37,
   "metadata": {},
   "outputs": [
    {
     "data": {
      "text/plain": [
       "Species                            \n",
       "Escherichia coli                       894\n",
       "Salmonella enterica                    394\n",
       "Staphylococcus aureus                  308\n",
       "Streptococcus pneumoniae               291\n",
       "Bacillus cereus                        258\n",
       "                                      ... \n",
       "Clostridium sp. Maddingley MBC34-26      1\n",
       "Clostridium sp. SS2/1                    1\n",
       "Clostridium spiroforme                   1\n",
       "Coleofasciculus chthonoplastes           1\n",
       "unidentified eubacterium SCB49           1\n",
       "Length: 2621, dtype: int64"
      ]
     },
     "execution_count": 37,
     "metadata": {},
     "output_type": "execute_result"
    }
   ],
   "source": [
    "y.value_counts()"
   ]
  },
  {
   "cell_type": "code",
   "execution_count": 38,
   "metadata": {},
   "outputs": [
    {
     "data": {
      "text/plain": [
       "1      1389\n",
       "2       358\n",
       "3       221\n",
       "4       140\n",
       "5        91\n",
       "       ... \n",
       "62        1\n",
       "63        1\n",
       "66        1\n",
       "25        1\n",
       "894       1\n",
       "Length: 76, dtype: int64"
      ]
     },
     "execution_count": 38,
     "metadata": {},
     "output_type": "execute_result"
    }
   ],
   "source": [
    "y.value_counts().value_counts()"
   ]
  },
  {
   "cell_type": "code",
   "execution_count": 39,
   "metadata": {},
   "outputs": [
    {
     "data": {
      "text/plain": [
       "0.18457591306972532"
      ]
     },
     "execution_count": 39,
     "metadata": {},
     "output_type": "execute_result"
    }
   ],
   "source": [
    "y.value_counts().value_counts()[0:10].sum()/y.value_counts().sum()"
   ]
  },
  {
   "cell_type": "code",
   "execution_count": 40,
   "metadata": {},
   "outputs": [
    {
     "data": {
      "text/plain": [
       "Text(0, 0.5, 'Number of species')"
      ]
     },
     "execution_count": 40,
     "metadata": {},
     "output_type": "execute_result"
    },
    {
     "data": {
      "image/png": "[encoded data removed]",
      "text/plain": [
       "<Figure size 432x288 with 1 Axes>"
      ]
     },
     "metadata": {
      "needs_background": "light"
     },
     "output_type": "display_data"
    }
   ],
   "source": [
    "num_species = y.value_counts().value_counts().values\n",
    "occurance = y.value_counts().value_counts().index\n",
    "plt.scatter(occurance, num_species)\n",
    "plt.xlabel('Occurance')\n",
    "plt.ylabel(\"Number of species\")"
   ]
  },
  {
   "cell_type": "code",
   "execution_count": 41,
   "metadata": {},
   "outputs": [
    {
     "data": {
      "text/plain": [
       "count    2621.000000\n",
       "mean        5.056085\n",
       "std        24.039414\n",
       "min         1.000000\n",
       "25%         1.000000\n",
       "50%         1.000000\n",
       "75%         3.000000\n",
       "max       894.000000\n",
       "dtype: float64"
      ]
     },
     "execution_count": 41,
     "metadata": {},
     "output_type": "execute_result"
    }
   ],
   "source": [
    "y.value_counts().describe()"
   ]
  },
  {
   "cell_type": "code",
   "execution_count": 42,
   "metadata": {},
   "outputs": [
    {
     "data": {
      "text/plain": [
       "0       894\n",
       "1       394\n",
       "2       308\n",
       "3       291\n",
       "4       258\n",
       "       ... \n",
       "2616      1\n",
       "2617      1\n",
       "2618      1\n",
       "2619      1\n",
       "2620      1\n",
       "Length: 2621, dtype: int64"
      ]
     },
     "execution_count": 42,
     "metadata": {},
     "output_type": "execute_result"
    }
   ],
   "source": [
    "a = y.value_counts()\n",
    "a.index = range(0, len(y.value_counts()+1))\n",
    "a.index\n",
    "a"
   ]
  },
  {
   "cell_type": "code",
   "execution_count": 43,
   "metadata": {},
   "outputs": [
    {
     "name": "stderr",
     "output_type": "stream",
     "text": [
      "No handles with labels found to put in legend.\n"
     ]
    },
    {
     "data": {
      "image/png": "[encoded data removed]",
      "text/plain": [
       "<Figure size 432x288 with 1 Axes>"
      ]
     },
     "metadata": {
      "needs_background": "light"
     },
     "output_type": "display_data"
    }
   ],
   "source": [
    "fig, ax = plt.subplots()\n",
    "ax.plot(a.index[0:10], a.values[0:10])\n",
    "ax.set(title=\"Distribution of frequency of species occurance\")\n",
    "plt.xlabel(\"Number of species\")\n",
    "plt.ylabel(\"Number of sequences present\")\n",
    "ax.legend()\n",
    "plt.show()\n"
   ]
  },
  {
   "cell_type": "markdown",
   "metadata": {},
   "source": [
    "## Raw sequence data analysis"
   ]
  },
  {
   "cell_type": "code",
   "execution_count": 44,
   "metadata": {},
   "outputs": [],
   "source": [
    "from Bio import SeqIO\n",
    "sequences = []\n",
    "for seq_record in SeqIO.parse(r'C:\\Users\\anant\\Documents\\GitHub\\Taxonomic_classifier\\Data\\sequence.fasta', 'fasta'):\n",
    "    sequences.append(seq_record.seq)"
   ]
  },
  {
   "cell_type": "code",
   "execution_count": 45,
   "metadata": {},
   "outputs": [],
   "source": [
    "size = [len(rec) for rec in sequences]"
   ]
  },
  {
   "cell_type": "code",
   "execution_count": 46,
   "metadata": {},
   "outputs": [
    {
     "data": {
      "text/plain": [
       "[1503, 1503, 1525, 1524, 1524]"
      ]
     },
     "execution_count": 46,
     "metadata": {},
     "output_type": "execute_result"
    }
   ],
   "source": [
    "size[0:5]"
   ]
  },
  {
   "cell_type": "code",
   "execution_count": 47,
   "metadata": {},
   "outputs": [
    {
     "data": {
      "image/png": "[encoded data removed]",
      "text/plain": [
       "<Figure size 432x288 with 1 Axes>"
      ]
     },
     "metadata": {
      "needs_background": "light"
     },
     "output_type": "display_data"
    }
   ],
   "source": [
    "\n",
    "plt.hist(size, bins=20)\n",
    "plt.title(\"%i 16s rRNA sequences \\n Lengths %ibp to %ibp\"%(len(size), min(size), max(size)))\n",
    "plt.xlabel(\"sequence length\")\n",
    "plt.ylabel(\"Count\")\n",
    "plt.show()\n"
   ]
  },
  {
   "cell_type": "code",
   "execution_count": 48,
   "metadata": {},
   "outputs": [],
   "source": [
    "\n",
    "gc_val = sorted(GC(content) for content in sequences)"
   ]
  },
  {
   "cell_type": "code",
   "execution_count": 49,
   "metadata": {},
   "outputs": [
    {
     "data": {
      "image/png": "[encoded data removed]",
      "text/plain": [
       "<Figure size 432x288 with 1 Axes>"
      ]
     },
     "metadata": {
      "needs_background": "light"
     },
     "output_type": "display_data"
    }
   ],
   "source": [
    "plt.plot(gc_val)\n",
    "plt.title(\"%i GC percentages\\n Range %0.1f to %0.1f\" % (len(gc_val), min(gc_val), max(gc_val)))\n",
    "plt.xlabel(\"Sequences\")\n",
    "plt.ylabel(\"GC Content\")\n",
    "plt.show()"
   ]
  },
  {
   "cell_type": "markdown",
   "metadata": {},
   "source": [
    "# PCA"
   ]
  },
  {
   "cell_type": "code",
   "execution_count": 6,
   "metadata": {},
   "outputs": [
    {
     "data": {
      "text/plain": [
       "[<matplotlib.lines.Line2D at 0x2175108c700>]"
      ]
     },
     "execution_count": 6,
     "metadata": {},
     "output_type": "execute_result"
    },
    {
     "data": {
      "image/png": "[encoded data removed]",
      "text/plain": [
       "<Figure size 432x288 with 1 Axes>"
      ]
     },
     "metadata": {
      "needs_background": "light"
     },
     "output_type": "display_data"
    }
   ],
   "source": [
    "from matplotlib import pyplot as plt\n",
    "x = [3,4,5,6,7]\n",
    "y = [51.5, 44.9, 31.1, 15, 5.1]\n",
    "plt.xlabel('kmer')\n",
    "plt.ylabel('percentage of useful columns')\n",
    "plt.xticks = x\n",
    "plt.plot(x, y)"
   ]
  },
  {
   "cell_type": "code",
   "execution_count": null,
   "metadata": {},
   "outputs": [],
   "source": []
  }
 ],
 "metadata": {
  "interpreter": {
   "hash": "de21b79775ae6ec441be05aeae02627cf1c77ac93ea488a19c6ffa595ec3c985"
  },
  "kernelspec": {
   "display_name": "Python 3.9.0 64-bit",
   "language": "python",
   "name": "python3"
  },
  "language_info": {
   "codemirror_mode": {
    "name": "ipython",
    "version": 3
   },
   "file_extension": ".py",
   "mimetype": "text/x-python",
   "name": "python",
   "nbconvert_exporter": "python",
   "pygments_lexer": "ipython3",
   "version": "3.9.0"
  },
  "orig_nbformat": 4
 },
 "nbformat": 4,
 "nbformat_minor": 2
}
