{
 "cells": [
  {
   "cell_type": "code",
   "execution_count": 1,
   "metadata": {},
   "outputs": [],
   "source": [
    "from Bio import Entrez\n",
    "from Bio import SeqIO\n",
    "Entrez.email = '1anantkbais@gmail.com'"
   ]
  },
  {
   "cell_type": "code",
   "execution_count": 2,
   "metadata": {},
   "outputs": [],
   "source": [
    "handle = Entrez.einfo()\n",
    "record = Entrez.read(handle)"
   ]
  },
  {
   "cell_type": "code",
   "execution_count": 3,
   "metadata": {},
   "outputs": [
    {
     "data": {
      "text/plain": [
       "{'DbList': ['pubmed', 'protein', 'nuccore', 'ipg', 'nucleotide', 'structure', 'genome', 'annotinfo', 'assembly', 'bioproject', 'biosample', 'blastdbinfo', 'books', 'cdd', 'clinvar', 'gap', 'gapplus', 'grasp', 'dbvar', 'gene', 'gds', 'geoprofiles', 'homologene', 'medgen', 'mesh', 'nlmcatalog', 'omim', 'orgtrack', 'pmc', 'popset', 'proteinclusters', 'pcassay', 'protfam', 'pccompound', 'pcsubstance', 'seqannot', 'snp', 'sra', 'taxonomy', 'biocollections', 'gtr']}"
      ]
     },
     "execution_count": 3,
     "metadata": {},
     "output_type": "execute_result"
    }
   ],
   "source": [
    "record"
   ]
  },
  {
   "cell_type": "code",
   "execution_count": 4,
   "metadata": {},
   "outputs": [],
   "source": [
    "n_record = Entrez.read(Entrez.einfo(db='nucleotide'))"
   ]
  },
  {
   "cell_type": "code",
   "execution_count": 5,
   "metadata": {},
   "outputs": [
    {
     "data": {
      "text/plain": [
       "dict_keys(['DbName', 'MenuName', 'Description', 'DbBuild', 'Count', 'LastUpdate', 'FieldList', 'LinkList'])"
      ]
     },
     "execution_count": 5,
     "metadata": {},
     "output_type": "execute_result"
    }
   ],
   "source": [
    "n_record['DbInfo'].keys()"
   ]
  },
  {
   "cell_type": "code",
   "execution_count": 6,
   "metadata": {},
   "outputs": [
    {
     "name": "stdout",
     "output_type": "stream",
     "text": [
      "ALL, All Fields, All terms from all searchable fields\n",
      "UID, UID, Unique number assigned to each sequence\n",
      "FILT, Filter, Limits the records\n",
      "WORD, Text Word, Free text associated with record\n",
      "TITL, Title, Words in definition line\n",
      "KYWD, Keyword, Nonstandardized terms provided by submitter\n",
      "AUTH, Author, Author(s) of publication\n",
      "JOUR, Journal, Journal abbreviation of publication\n",
      "VOL, Volume, Volume number of publication\n",
      "ISS, Issue, Issue number of publication\n",
      "PAGE, Page Number, Page number(s) of publication\n",
      "ORGN, Organism, Scientific and common names of organism, and all higher levels of taxonomy\n",
      "ACCN, Accession, Accession number of sequence\n",
      "PACC, Primary Accession, Does not include retired secondary accessions\n",
      "GENE, Gene Name, Name of gene associated with sequence\n",
      "PROT, Protein Name, Name of protein associated with sequence\n",
      "ECNO, EC/RN Number, EC number for enzyme or CAS registry number\n",
      "PDAT, Publication Date, Date sequence added to GenBank\n",
      "MDAT, Modification Date, Date of last update\n",
      "SUBS, Substance Name, CAS chemical name or MEDLINE Substance Name\n",
      "PROP, Properties, Classification by source qualifiers and molecule type\n",
      "SQID, SeqID String, String identifier for sequence\n",
      "GPRJ, BioProject, BioProject\n",
      "SLEN, Sequence Length, Length of sequence\n",
      "FKEY, Feature key, Feature annotated on sequence\n",
      "PORG, Primary Organism, Scientific and common names of primary organism, and all higher levels of taxonomy\n",
      "COMP, Component Accession, Component accessions for an assembly\n",
      "ASSM, Assembly, Assembly\n",
      "DIV, Division, Division\n",
      "STRN, Strain, Strain\n",
      "ISOL, Isolate, Isolate\n",
      "CULT, Cultivar, Cultivar\n",
      "BRD, Breed, Breed\n",
      "BIOS, BioSample, BioSample\n"
     ]
    }
   ],
   "source": [
    "for field in n_record[\"DbInfo\"][\"FieldList\"]:\n",
    "    print(\"%(Name)s, %(FullName)s, %(Description)s\" % field)\n"
   ]
  },
  {
   "cell_type": "code",
   "execution_count": 7,
   "metadata": {},
   "outputs": [
    {
     "data": {
      "text/plain": [
       "{'Count': '44203141', 'RetMax': '5', 'RetStart': '0', 'IdList': ['2276281412', '2276281329', '2276281328', '2276281327', '2276281326'], 'TranslationSet': [], 'TranslationStack': [{'Term': '16s[All Fields]', 'Field': 'All Fields', 'Count': '44508582', 'Explode': 'N'}, {'Term': 'rRNA[All Fields]', 'Field': 'All Fields', 'Count': '51586366', 'Explode': 'N'}, 'AND', 'GROUP'], 'QueryTranslation': '16s[All Fields] AND rRNA[All Fields]'}"
      ]
     },
     "execution_count": 7,
     "metadata": {},
     "output_type": "execute_result"
    }
   ],
   "source": [
    "handle = Entrez.esearch(db=\"nucleotide\", term=\"16s rRNA\", retmax=\"5\" )\n",
    "record = Entrez.read(handle)\n",
    "record"
   ]
  },
  {
   "cell_type": "code",
   "execution_count": 8,
   "metadata": {},
   "outputs": [
    {
     "data": {
      "text/plain": [
       "'2276281412,2276281329,2276281328,2276281327,2276281326'"
      ]
     },
     "execution_count": 8,
     "metadata": {},
     "output_type": "execute_result"
    }
   ],
   "source": [
    "id_list = record['IdList']\n",
    "id=\",\".join(id_list)\n",
    "id"
   ]
  },
  {
   "cell_type": "code",
   "execution_count": 10,
   "metadata": {},
   "outputs": [],
   "source": [
    "handle = Entrez.efetch(db='nucleotide', rettype= 'fasta',retmode='text',id = id_list)"
   ]
  },
  {
   "cell_type": "code",
   "execution_count": 11,
   "metadata": {},
   "outputs": [],
   "source": [
    "seq = []\n",
    "for sequence in SeqIO.parse(handle, format='fasta'):\n",
    "    seq.append(sequence)"
   ]
  },
  {
   "cell_type": "code",
   "execution_count": 12,
   "metadata": {},
   "outputs": [
    {
     "data": {
      "text/plain": [
       "[SeqRecord(seq=Seq('AATTAAACTTCGTAATGAATTACGTGTTCACTCTTGAGACTTGGTATTCATTTT...TGC'), id='NZ_JAKEQU010000001.1', name='NZ_JAKEQU010000001.1', description='NZ_JAKEQU010000001.1 Klebsiella pneumoniae strain Kp.122 Scaffold1, whole genome shotgun sequence', dbxrefs=[]),\n",
       " SeqRecord(seq=Seq('TACCACTTTGTGATTCATGACTGGGGTGAAGTCGTAACAAGGTAACCGTAGGGG...ATA'), id='NZ_JAKEQC010000088.1', name='NZ_JAKEQC010000088.1', description='NZ_JAKEQC010000088.1 Klebsiella pneumoniae strain Kp.166 Scaffold88, whole genome shotgun sequence', dbxrefs=[]),\n",
       " SeqRecord(seq=Seq('AGCTTAACCTTCGGGAGGGCGCTTACCACTTTGTGATTCATGACTGGGGTGAAG...CAG'), id='NZ_JAKEQC010000087.1', name='NZ_JAKEQC010000087.1', description='NZ_JAKEQC010000087.1 Klebsiella pneumoniae strain Kp.166 Scaffold87, whole genome shotgun sequence', dbxrefs=[]),\n",
       " SeqRecord(seq=Seq('AAAAAAACTGGGCCCAGGCAGTTAACCCGACGCAGGCAGCGATTTTTTCCTGTG...GGG'), id='NZ_JAKEQC010000086.1', name='NZ_JAKEQC010000086.1', description='NZ_JAKEQC010000086.1 Klebsiella pneumoniae strain Kp.166 Scaffold86, whole genome shotgun sequence', dbxrefs=[])]"
      ]
     },
     "execution_count": 12,
     "metadata": {},
     "output_type": "execute_result"
    }
   ],
   "source": [
    "seq"
   ]
  },
  {
   "cell_type": "code",
   "execution_count": 52,
   "metadata": {},
   "outputs": [
    {
     "ename": "IndexError",
     "evalue": "list index out of range",
     "output_type": "error",
     "traceback": [
      "\u001b[1;31m---------------------------------------------------------------------------\u001b[0m",
      "\u001b[1;31mIndexError\u001b[0m                                Traceback (most recent call last)",
      "\u001b[1;32m<ipython-input-52-6997ea34309b>\u001b[0m in \u001b[0;36m<module>\u001b[1;34m\u001b[0m\n\u001b[1;32m----> 1\u001b[1;33m \u001b[0mseq\u001b[0m\u001b[1;33m[\u001b[0m\u001b[1;36m0\u001b[0m\u001b[1;33m]\u001b[0m\u001b[1;33m.\u001b[0m\u001b[0mid\u001b[0m\u001b[1;33m\u001b[0m\u001b[1;33m\u001b[0m\u001b[0m\n\u001b[0m",
      "\u001b[1;31mIndexError\u001b[0m: list index out of range"
     ]
    }
   ],
   "source": [
    "seq[0].id"
   ]
  },
  {
   "cell_type": "code",
   "execution_count": null,
   "metadata": {},
   "outputs": [],
   "source": []
  }
 ],
 "metadata": {
  "kernelspec": {
   "display_name": "Python 3.9.0 64-bit",
   "language": "python",
   "name": "python3"
  },
  "language_info": {
   "codemirror_mode": {
    "name": "ipython",
    "version": 3
   },
   "file_extension": ".py",
   "mimetype": "text/x-python",
   "name": "python",
   "nbconvert_exporter": "python",
   "pygments_lexer": "ipython3",
   "version": "3.9.0"
  },
  "orig_nbformat": 4,
  "vscode": {
   "interpreter": {
    "hash": "de21b79775ae6ec441be05aeae02627cf1c77ac93ea488a19c6ffa595ec3c985"
   }
  }
 },
 "nbformat": 4,
 "nbformat_minor": 2
}
