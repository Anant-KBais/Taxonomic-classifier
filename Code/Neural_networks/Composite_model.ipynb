{
 "cells": [
  {
   "cell_type": "code",
   "execution_count": 1,
   "metadata": {},
   "outputs": [],
   "source": [
    "from sklearn.model_selection import train_test_split\n",
    "import pandas as pd\n",
    "import numpy as np\n",
    "from keras.models import load_model"
   ]
  },
  {
   "cell_type": "code",
   "execution_count": 2,
   "metadata": {},
   "outputs": [],
   "source": [
    "y = pd.read_csv(r\"C:\\Users\\anant\\Documents\\GitHub\\Taxonomic_classifier\\Data\\Taxonomic_data.csv\", usecols=['Species'])\n",
    "x7 = pd.read_csv(r\"C:\\Users\\anant\\Documents\\GitHub\\Taxonomic_classifier\\Data\\k(7)mer_data.csv\").drop(\"Unnamed: 0\", axis=1)\n",
    "x6 = pd.read_csv(r\"C:\\Users\\anant\\Documents\\GitHub\\Taxonomic_classifier\\Data\\k(6)mer_data.csv\").drop(\"Unnamed: 0\", axis=1)\n",
    "x5 = pd.read_csv(r\"C:\\Users\\anant\\Documents\\GitHub\\Taxonomic_classifier\\Data\\k(5)mer_data.csv\").drop(\"Unnamed: 0\", axis=1)\n"
   ]
  },
  {
   "cell_type": "code",
   "execution_count": 3,
   "metadata": {},
   "outputs": [],
   "source": [
    "train_x7, test_x7, train_y7, test_y7 = train_test_split(x7, y, test_size=0.2, random_state=7)\n",
    "train_x6, test_x6, train_y6, test_y6 = train_test_split(x6, y, test_size=0.2, random_state=7)\n",
    "train_x5, test_x5, train_y5, test_y5 = train_test_split(x5, y, test_size=0.2, random_state=7)"
   ]
  },
  {
   "cell_type": "code",
   "execution_count": 4,
   "metadata": {},
   "outputs": [
    {
     "data": {
      "text/html": [
       "<style>#sk-container-id-1 {color: black;background-color: white;}#sk-container-id-1 pre{padding: 0;}#sk-container-id-1 div.sk-toggleable {background-color: white;}#sk-container-id-1 label.sk-toggleable__label {cursor: pointer;display: block;width: 100%;margin-bottom: 0;padding: 0.3em;box-sizing: border-box;text-align: center;}#sk-container-id-1 label.sk-toggleable__label-arrow:before {content: \"▸\";float: left;margin-right: 0.25em;color: #696969;}#sk-container-id-1 label.sk-toggleable__label-arrow:hover:before {color: black;}#sk-container-id-1 div.sk-estimator:hover label.sk-toggleable__label-arrow:before {color: black;}#sk-container-id-1 div.sk-toggleable__content {max-height: 0;max-width: 0;overflow: hidden;text-align: left;background-color: #f0f8ff;}#sk-container-id-1 div.sk-toggleable__content pre {margin: 0.2em;color: black;border-radius: 0.25em;background-color: #f0f8ff;}#sk-container-id-1 input.sk-toggleable__control:checked~div.sk-toggleable__content {max-height: 200px;max-width: 100%;overflow: auto;}#sk-container-id-1 input.sk-toggleable__control:checked~label.sk-toggleable__label-arrow:before {content: \"▾\";}#sk-container-id-1 div.sk-estimator input.sk-toggleable__control:checked~label.sk-toggleable__label {background-color: #d4ebff;}#sk-container-id-1 div.sk-label input.sk-toggleable__control:checked~label.sk-toggleable__label {background-color: #d4ebff;}#sk-container-id-1 input.sk-hidden--visually {border: 0;clip: rect(1px 1px 1px 1px);clip: rect(1px, 1px, 1px, 1px);height: 1px;margin: -1px;overflow: hidden;padding: 0;position: absolute;width: 1px;}#sk-container-id-1 div.sk-estimator {font-family: monospace;background-color: #f0f8ff;border: 1px dotted black;border-radius: 0.25em;box-sizing: border-box;margin-bottom: 0.5em;}#sk-container-id-1 div.sk-estimator:hover {background-color: #d4ebff;}#sk-container-id-1 div.sk-parallel-item::after {content: \"\";width: 100%;border-bottom: 1px solid gray;flex-grow: 1;}#sk-container-id-1 div.sk-label:hover label.sk-toggleable__label {background-color: #d4ebff;}#sk-container-id-1 div.sk-serial::before {content: \"\";position: absolute;border-left: 1px solid gray;box-sizing: border-box;top: 0;bottom: 0;left: 50%;z-index: 0;}#sk-container-id-1 div.sk-serial {display: flex;flex-direction: column;align-items: center;background-color: white;padding-right: 0.2em;padding-left: 0.2em;position: relative;}#sk-container-id-1 div.sk-item {position: relative;z-index: 1;}#sk-container-id-1 div.sk-parallel {display: flex;align-items: stretch;justify-content: center;background-color: white;position: relative;}#sk-container-id-1 div.sk-item::before, #sk-container-id-1 div.sk-parallel-item::before {content: \"\";position: absolute;border-left: 1px solid gray;box-sizing: border-box;top: 0;bottom: 0;left: 50%;z-index: -1;}#sk-container-id-1 div.sk-parallel-item {display: flex;flex-direction: column;z-index: 1;position: relative;background-color: white;}#sk-container-id-1 div.sk-parallel-item:first-child::after {align-self: flex-end;width: 50%;}#sk-container-id-1 div.sk-parallel-item:last-child::after {align-self: flex-start;width: 50%;}#sk-container-id-1 div.sk-parallel-item:only-child::after {width: 0;}#sk-container-id-1 div.sk-dashed-wrapped {border: 1px dashed gray;margin: 0 0.4em 0.5em 0.4em;box-sizing: border-box;padding-bottom: 0.4em;background-color: white;}#sk-container-id-1 div.sk-label label {font-family: monospace;font-weight: bold;display: inline-block;line-height: 1.2em;}#sk-container-id-1 div.sk-label-container {text-align: center;}#sk-container-id-1 div.sk-container {/* jupyter's `normalize.less` sets `[hidden] { display: none; }` but bootstrap.min.css set `[hidden] { display: none !important; }` so we also need the `!important` here to be able to override the default hidden behavior on the sphinx rendered scikit-learn.org. See: https://github.com/scikit-learn/scikit-learn/issues/21755 */display: inline-block !important;position: relative;}#sk-container-id-1 div.sk-text-repr-fallback {display: none;}</style><div id=\"sk-container-id-1\" class=\"sk-top-container\"><div class=\"sk-text-repr-fallback\"><pre>LabelBinarizer()</pre><b>In a Jupyter environment, please rerun this cell to show the HTML representation or trust the notebook. <br />On GitHub, the HTML representation is unable to render, please try loading this page with nbviewer.org.</b></div><div class=\"sk-container\" hidden><div class=\"sk-item\"><div class=\"sk-estimator sk-toggleable\"><input class=\"sk-toggleable__control sk-hidden--visually\" id=\"sk-estimator-id-1\" type=\"checkbox\" checked><label for=\"sk-estimator-id-1\" class=\"sk-toggleable__label sk-toggleable__label-arrow\">LabelBinarizer</label><div class=\"sk-toggleable__content\"><pre>LabelBinarizer()</pre></div></div></div></div></div>"
      ],
      "text/plain": [
       "LabelBinarizer()"
      ]
     },
     "execution_count": 4,
     "metadata": {},
     "output_type": "execute_result"
    }
   ],
   "source": [
    "from sklearn import preprocessing\n",
    "lb = preprocessing.LabelBinarizer()\n",
    "lb.fit(y)\n"
   ]
  },
  {
   "cell_type": "code",
   "execution_count": 5,
   "metadata": {},
   "outputs": [],
   "source": [
    "k7_net = load_model(\"k7-net\")\n",
    "k6_net = load_model(\"k6-net\")\n",
    "k5_net = load_model(\"k5-net\")"
   ]
  },
  {
   "cell_type": "code",
   "execution_count": 10,
   "metadata": {},
   "outputs": [],
   "source": [
    "pred =  dict([[x,y] for x,y in zip(lb.inverse_transform(k6_net.predict(test_x6[10:15])), [4, 5, 6])])"
   ]
  },
  {
   "cell_type": "code",
   "execution_count": 11,
   "metadata": {},
   "outputs": [
    {
     "data": {
      "text/plain": [
       "{'Vibrio parahaemolyticus': 4,\n",
       " 'Enterococcus faecalis': 5,\n",
       " 'Candidatus Hamiltonella defensa': 6}"
      ]
     },
     "execution_count": 11,
     "metadata": {},
     "output_type": "execute_result"
    }
   ],
   "source": [
    "pred"
   ]
  },
  {
   "cell_type": "code",
   "execution_count": 22,
   "metadata": {},
   "outputs": [
    {
     "name": "stdout",
     "output_type": "stream",
     "text": [
      "298\n"
     ]
    }
   ],
   "source": [
    "i = 0\n",
    "mismatch = 0\n",
    "npredictions = 0\n",
    "predictions = []\n",
    "y_predicted = []\n",
    "mismatch_species = []\n",
    "mismatch_species_pred = []\n",
    "\n",
    "for y in y.values:\n",
    "    j=1\n",
    "    a = k7_net.predict(test_x7[i:i+1])\n",
    "    b = k6_net.predict(test_x6[i:i+1]) \n",
    "    c = k5_net.predict(test_x5[i:i+1])\n",
    "    preds = [a, b, c]\n",
    "    pred = dict([(x,y) for (x, y) in zip([max(x[0]) for x in preds],[str(lb.inverse_transform(x)[0]) for x in preds ])])\n",
    "    b = [x for x in pred.values() if list(pred.values()).count(x)>1]\n",
    "    sp = y\n",
    "    \n",
    "    if any(b):\n",
    "        p_sp = b[0]\n",
    "        npredictions += 1\n",
    "        j = 2\n",
    "        predictions.append(p_sp)\n",
    "        y_predicted.append(sp)\n",
    "\n",
    "    elif max(pred.keys())>0.99:\n",
    "        p_sp = pred.get(max(pred.keys()))\n",
    "        j=2\n",
    "        npredictions += 1\n",
    "        predictions.append(p_sp)\n",
    "        y_predicted.append(sp)\n",
    "    \n",
    "    \n",
    "    if p_sp!=sp and j==2 :\n",
    "        mismatch_species.append(sp)\n",
    "        mismatch_species_pred.append(p_sp)\n",
    "        mismatch += 1\n",
    "    \n",
    "    i  += 1\n",
    "print(mismatch)"
   ]
  },
  {
   "cell_type": "code",
   "execution_count": 42,
   "metadata": {},
   "outputs": [
    {
     "data": {
      "text/plain": [
       "(['Lactobacillus reuteri',\n",
       "  'Staphylococcus aureus',\n",
       "  'Moraxella catarrhalis',\n",
       "  'Bacillus anthracis',\n",
       "  'Acinetobacter baumannii',\n",
       "  'Listeria monocytogenes',\n",
       "  'Micromonospora sp. L5',\n",
       "  'Lactobacillus reuteri',\n",
       "  'Shigella flexneri',\n",
       "  'Staphylococcus epidermidis'],\n",
       " 10)"
      ]
     },
     "execution_count": 42,
     "metadata": {},
     "output_type": "execute_result"
    }
   ],
   "source": [
    "i = 0\n",
    "npredictions = 0\n",
    "predictions = []\n",
    "\n",
    "for y in x5.values[0:10]:\n",
    "    j=1\n",
    "    a = k7_net.predict(test_x7[i:i+1])\n",
    "    b = k6_net.predict(test_x6[i:i+1]) \n",
    "    c = k5_net.predict(test_x5[i:i+1])\n",
    "    preds = [a, b, c]\n",
    "    pred = dict([(x,y) for (x, y) in zip([max(x[0]) for x in preds],\n",
    "                [str(lb.inverse_transform(x)[0]) for x in preds ])])\n",
    "                \n",
    "    b = [x for x in pred.values() if list(pred.values()).count(x)>1]\n",
    "\n",
    "    if any(b):\n",
    "        p_sp = b[0]\n",
    "        npredictions += 1\n",
    "        predictions.append(p_sp)\n",
    "\n",
    "    elif max(pred.keys())>0.99:\n",
    "        p_sp = pred.get(max(pred.keys()))\n",
    "        npredictions += 1\n",
    "        predictions.append(p_sp)\n",
    "    \n",
    "    i  += 1\n",
    "predictions"
   ]
  },
  {
   "cell_type": "code",
   "execution_count": 35,
   "metadata": {},
   "outputs": [
    {
     "data": {
      "text/plain": [
       "0.8663714580280101"
      ]
     },
     "execution_count": 35,
     "metadata": {},
     "output_type": "execute_result"
    }
   ],
   "source": [
    "from sklearn import metrics\n",
    "f1 = metrics.f1_score(y_predicted, predictions, average = 'weighted')\n",
    "f1"
   ]
  },
  {
   "cell_type": "code",
   "execution_count": 38,
   "metadata": {},
   "outputs": [
    {
     "data": {
      "text/plain": [
       "Escherichia coli                   7.917174\n",
       "Salmonella enterica                3.613479\n",
       "Streptococcus pneumoniae           2.598457\n",
       "Staphylococcus aureus              2.233049\n",
       "Bacillus cereus                    1.705238\n",
       "                                     ...   \n",
       "Ketogulonicigenium vulgare         0.040601\n",
       "Jonquetella anthropi               0.040601\n",
       "Janthinobacterium sp. Marseille    0.040601\n",
       "Isosphaera pallida                 0.040601\n",
       "gamma proteobacterium NOR5-3       0.040601\n",
       "Length: 749, dtype: float64"
      ]
     },
     "execution_count": 38,
     "metadata": {},
     "output_type": "execute_result"
    }
   ],
   "source": [
    "a = pd.DataFrame(predictions)\n",
    "a.value_counts()/sum(a.value_counts())*100\n",
    "\n"
   ]
  },
  {
   "cell_type": "code",
   "execution_count": 14,
   "metadata": {},
   "outputs": [
    {
     "data": {
      "text/plain": [
       "2651"
      ]
     },
     "execution_count": 14,
     "metadata": {},
     "output_type": "execute_result"
    }
   ],
   "source": [
    "i"
   ]
  }
 ],
 "metadata": {
  "kernelspec": {
   "display_name": "Python 3.9.0 64-bit",
   "language": "python",
   "name": "python3"
  },
  "language_info": {
   "codemirror_mode": {
    "name": "ipython",
    "version": 3
   },
   "file_extension": ".py",
   "mimetype": "text/x-python",
   "name": "python",
   "nbconvert_exporter": "python",
   "pygments_lexer": "ipython3",
   "version": "3.9.0"
  },
  "orig_nbformat": 4,
  "vscode": {
   "interpreter": {
    "hash": "de21b79775ae6ec441be05aeae02627cf1c77ac93ea488a19c6ffa595ec3c985"
   }
  }
 },
 "nbformat": 4,
 "nbformat_minor": 2
}
