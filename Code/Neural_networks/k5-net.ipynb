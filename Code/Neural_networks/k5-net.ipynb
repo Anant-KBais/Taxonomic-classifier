{
 "cells": [
  {
   "cell_type": "code",
   "execution_count": 13,
   "metadata": {},
   "outputs": [],
   "source": [
    "from sklearn.model_selection import train_test_split\n",
    "import pandas as pd\n",
    "from keras.models import Sequential\n",
    "from keras.layers import Dense\n",
    "import numpy as np"
   ]
  },
  {
   "cell_type": "code",
   "execution_count": 14,
   "metadata": {},
   "outputs": [],
   "source": [
    "y = pd.read_csv(r\"C:\\Users\\anant\\Documents\\GitHub\\Taxonomic_classifier\\Data\\Taxonomic_data.csv\", usecols=['Species'])\n",
    "x = pd.read_csv(r\"C:\\Users\\anant\\Documents\\GitHub\\Taxonomic_classifier\\Data\\k(5)mer_data.csv\").drop(\"Unnamed: 0\", axis=1)"
   ]
  },
  {
   "cell_type": "code",
   "execution_count": 15,
   "metadata": {},
   "outputs": [
    {
     "data": {
      "text/plain": [
       "1024"
      ]
     },
     "execution_count": 15,
     "metadata": {},
     "output_type": "execute_result"
    }
   ],
   "source": [
    "x.shape[1]"
   ]
  },
  {
   "cell_type": "code",
   "execution_count": 16,
   "metadata": {},
   "outputs": [
    {
     "name": "stdout",
     "output_type": "stream",
     "text": [
      "1024 columns originally present, \n",
      "319 account for 95 percent variance \n",
      "corresponds to 31.15234375% of total\n"
     ]
    }
   ],
   "source": [
    "from sklearn.decomposition import PCA\n",
    "pca = PCA(n_components=0.95)\n",
    "xx = pca.fit_transform(x)\n",
    "pca.inverse_transform(xx)\n",
    "pca.explained_variance_ratio_.sum()\n",
    "print(f\"{x.shape[1]} columns originally present, \\n{pca.n_components_} account for 95 percent variance \")\n",
    "print(f\"corresponds to {100*pca.n_components_/x.shape[1]}% of total\")"
   ]
  },
  {
   "cell_type": "code",
   "execution_count": 17,
   "metadata": {},
   "outputs": [],
   "source": [
    "train_x, test_x, train_y, test_y = train_test_split(xx, y, test_size=0.2, random_state=7)"
   ]
  },
  {
   "cell_type": "code",
   "execution_count": 18,
   "metadata": {},
   "outputs": [
    {
     "data": {
      "text/html": [
       "<div>\n",
       "<style scoped>\n",
       "    .dataframe tbody tr th:only-of-type {\n",
       "        vertical-align: middle;\n",
       "    }\n",
       "\n",
       "    .dataframe tbody tr th {\n",
       "        vertical-align: top;\n",
       "    }\n",
       "\n",
       "    .dataframe thead th {\n",
       "        text-align: right;\n",
       "    }\n",
       "</style>\n",
       "<table border=\"1\" class=\"dataframe\">\n",
       "  <thead>\n",
       "    <tr style=\"text-align: right;\">\n",
       "      <th></th>\n",
       "      <th>Species</th>\n",
       "    </tr>\n",
       "  </thead>\n",
       "  <tbody>\n",
       "    <tr>\n",
       "      <th>count</th>\n",
       "      <td>10601</td>\n",
       "    </tr>\n",
       "    <tr>\n",
       "      <th>unique</th>\n",
       "      <td>2351</td>\n",
       "    </tr>\n",
       "    <tr>\n",
       "      <th>top</th>\n",
       "      <td>Escherichia coli</td>\n",
       "    </tr>\n",
       "    <tr>\n",
       "      <th>freq</th>\n",
       "      <td>712</td>\n",
       "    </tr>\n",
       "  </tbody>\n",
       "</table>\n",
       "</div>"
      ],
      "text/plain": [
       "                 Species\n",
       "count              10601\n",
       "unique              2351\n",
       "top     Escherichia coli\n",
       "freq                 712"
      ]
     },
     "execution_count": 18,
     "metadata": {},
     "output_type": "execute_result"
    }
   ],
   "source": [
    "train_y.describe()"
   ]
  },
  {
   "cell_type": "code",
   "execution_count": 19,
   "metadata": {},
   "outputs": [
    {
     "data": {
      "text/plain": [
       "(10601, 319)"
      ]
     },
     "execution_count": 19,
     "metadata": {},
     "output_type": "execute_result"
    }
   ],
   "source": [
    "train_x.shape"
   ]
  },
  {
   "cell_type": "code",
   "execution_count": 20,
   "metadata": {},
   "outputs": [],
   "source": [
    "from sklearn import preprocessing\n",
    "lb = preprocessing.LabelBinarizer()\n",
    "lb.fit(y)\n",
    "test_y = lb.transform(test_y)\n",
    "train_y = lb.transform(train_y)\n"
   ]
  },
  {
   "cell_type": "code",
   "execution_count": 21,
   "metadata": {},
   "outputs": [],
   "source": [
    "model = Sequential()\n",
    "model.add(Dense(20, input_shape =(None, train_x.shape[1]) , activation=\"relu\"))\n",
    "# model.add(Dense(64,activation='relu'))\n",
    "# model.add(Dense(128,activation='relu'))\n",
    "# model.add(Dense(64,activation='relu'))\n",
    "# model.add(Dense(64,activation='relu'))\n",
    "# model.add(Dense(64,activation='relu'))\n",
    "# model.add(Dense(64,activation='relu'))\n",
    "# model.add(Dense(64,activation='relu'))\n",
    "model.add(Dense(len(y.Species.unique()),activation='softmax'))"
   ]
  },
  {
   "cell_type": "code",
   "execution_count": 22,
   "metadata": {},
   "outputs": [
    {
     "name": "stdout",
     "output_type": "stream",
     "text": [
      "Model: \"sequential\"\n",
      "_________________________________________________________________\n",
      " Layer (type)                Output Shape              Param #   \n",
      "=================================================================\n",
      " dense (Dense)               (None, None, 20)          6400      \n",
      "                                                                 \n",
      " dense_1 (Dense)             (None, None, 2621)        55041     \n",
      "                                                                 \n",
      "=================================================================\n",
      "Total params: 61,441\n",
      "Trainable params: 61,441\n",
      "Non-trainable params: 0\n",
      "_________________________________________________________________\n"
     ]
    }
   ],
   "source": [
    "model.compile(loss='categorical_crossentropy',optimizer='adam',metrics=['accuracy'])\n",
    "model.summary()"
   ]
  },
  {
   "cell_type": "code",
   "execution_count": 28,
   "metadata": {},
   "outputs": [
    {
     "name": "stdout",
     "output_type": "stream",
     "text": [
      "Epoch 1/25\n",
      "332/332 [==============================] - 1s 3ms/step - loss: 0.1559 - accuracy: 0.9404\n",
      "Epoch 2/25\n",
      "332/332 [==============================] - 1s 2ms/step - loss: 0.1531 - accuracy: 0.9418\n",
      "Epoch 3/25\n",
      "332/332 [==============================] - 1s 3ms/step - loss: 0.1499 - accuracy: 0.9427\n",
      "Epoch 4/25\n",
      "332/332 [==============================] - 1s 3ms/step - loss: 0.1468 - accuracy: 0.9426\n",
      "Epoch 5/25\n",
      "332/332 [==============================] - 1s 3ms/step - loss: 0.1430 - accuracy: 0.9438\n",
      "Epoch 6/25\n",
      "332/332 [==============================] - 1s 3ms/step - loss: 0.1419 - accuracy: 0.9431\n",
      "Epoch 7/25\n",
      "332/332 [==============================] - 1s 3ms/step - loss: 0.1373 - accuracy: 0.9464\n",
      "Epoch 8/25\n",
      "332/332 [==============================] - 1s 3ms/step - loss: 0.1346 - accuracy: 0.9475\n",
      "Epoch 9/25\n",
      "332/332 [==============================] - 1s 2ms/step - loss: 0.1326 - accuracy: 0.9471\n",
      "Epoch 10/25\n",
      "332/332 [==============================] - 1s 3ms/step - loss: 0.1316 - accuracy: 0.9468\n",
      "Epoch 11/25\n",
      "332/332 [==============================] - 1s 3ms/step - loss: 0.1280 - accuracy: 0.9486\n",
      "Epoch 12/25\n",
      "332/332 [==============================] - 1s 3ms/step - loss: 0.1282 - accuracy: 0.9475\n",
      "Epoch 13/25\n",
      "332/332 [==============================] - 1s 3ms/step - loss: 0.1243 - accuracy: 0.9492\n",
      "Epoch 14/25\n",
      "332/332 [==============================] - 1s 3ms/step - loss: 0.1247 - accuracy: 0.9495\n",
      "Epoch 15/25\n",
      "332/332 [==============================] - 1s 3ms/step - loss: 0.1203 - accuracy: 0.9509\n",
      "Epoch 16/25\n",
      "332/332 [==============================] - 1s 3ms/step - loss: 0.1172 - accuracy: 0.9533\n",
      "Epoch 17/25\n",
      "332/332 [==============================] - 1s 3ms/step - loss: 0.1193 - accuracy: 0.9503\n",
      "Epoch 18/25\n",
      "332/332 [==============================] - 1s 3ms/step - loss: 0.1167 - accuracy: 0.9547\n",
      "Epoch 19/25\n",
      "332/332 [==============================] - 1s 3ms/step - loss: 0.1164 - accuracy: 0.9507\n",
      "Epoch 20/25\n",
      "332/332 [==============================] - 1s 3ms/step - loss: 0.1145 - accuracy: 0.9536\n",
      "Epoch 21/25\n",
      "332/332 [==============================] - 1s 3ms/step - loss: 0.1139 - accuracy: 0.9526\n",
      "Epoch 22/25\n",
      "332/332 [==============================] - 1s 3ms/step - loss: 0.1103 - accuracy: 0.9542\n",
      "Epoch 23/25\n",
      "332/332 [==============================] - 1s 3ms/step - loss: 0.1105 - accuracy: 0.9550\n",
      "Epoch 24/25\n",
      "332/332 [==============================] - 1s 3ms/step - loss: 0.1101 - accuracy: 0.9536\n",
      "Epoch 25/25\n",
      "332/332 [==============================] - 1s 3ms/step - loss: 0.1093 - accuracy: 0.9549\n"
     ]
    },
    {
     "data": {
      "text/plain": [
       "<keras.callbacks.History at 0x1fb0a435580>"
      ]
     },
     "execution_count": 28,
     "metadata": {},
     "output_type": "execute_result"
    }
   ],
   "source": [
    "model.fit(train_x, train_y, epochs = 25)"
   ]
  },
  {
   "cell_type": "code",
   "execution_count": 29,
   "metadata": {},
   "outputs": [
    {
     "name": "stdout",
     "output_type": "stream",
     "text": [
      "83/83 [==============================] - 0s 3ms/step - loss: 3.5506 - accuracy: 0.8318\n"
     ]
    },
    {
     "data": {
      "text/plain": [
       "[3.550614356994629, 0.8317615985870361]"
      ]
     },
     "execution_count": 29,
     "metadata": {},
     "output_type": "execute_result"
    }
   ],
   "source": [
    "model.evaluate(test_x, test_y)"
   ]
  },
  {
   "cell_type": "code",
   "execution_count": 30,
   "metadata": {},
   "outputs": [
    {
     "data": {
      "text/plain": [
       "0.8171626028782258"
      ]
     },
     "execution_count": 30,
     "metadata": {},
     "output_type": "execute_result"
    }
   ],
   "source": [
    "from sklearn import metrics\n",
    "f1 = metrics.f1_score( lb.inverse_transform(test_y), lb.inverse_transform(model.predict(test_x)), average='weighted')\n",
    "f1"
   ]
  },
  {
   "cell_type": "code",
   "execution_count": 26,
   "metadata": {},
   "outputs": [
    {
     "name": "stdout",
     "output_type": "stream",
     "text": [
      "126\n"
     ]
    }
   ],
   "source": [
    "i = 0\n",
    "mismatch = 0\n",
    "npredictions = 0\n",
    "predictions = []\n",
    "mismatch_species = []\n",
    "mismatch_species_pred = []\n",
    "y_tested = []\n",
    "for y in test_y:\n",
    "    a = model.predict(test_x[i:i+1]) \n",
    "    if a.max()>0.8:\n",
    "        sp = lb.inverse_transform(np.array([y]))\n",
    "        p_sp = lb.inverse_transform(a)\n",
    "        if p_sp!=sp :\n",
    "            mismatch_species.append(sp)\n",
    "            mismatch_species_pred.append(p_sp)\n",
    "            mismatch += 1\n",
    "        npredictions += 1\n",
    "        predictions.append(p_sp)\n",
    "        y_tested.append(sp)\n",
    "    i  += 1\n",
    "print(mismatch)"
   ]
  },
  {
   "cell_type": "code",
   "execution_count": 27,
   "metadata": {},
   "outputs": [
    {
     "ename": "NameError",
     "evalue": "name 'y_predicted' is not defined",
     "output_type": "error",
     "traceback": [
      "\u001b[1;31m---------------------------------------------------------------------------\u001b[0m",
      "\u001b[1;31mNameError\u001b[0m                                 Traceback (most recent call last)",
      "\u001b[1;32m<ipython-input-27-46d9a1f00af5>\u001b[0m in \u001b[0;36m<module>\u001b[1;34m\u001b[0m\n\u001b[0;32m      1\u001b[0m \u001b[1;32mfrom\u001b[0m \u001b[0msklearn\u001b[0m \u001b[1;32mimport\u001b[0m \u001b[0mmetrics\u001b[0m\u001b[1;33m\u001b[0m\u001b[1;33m\u001b[0m\u001b[0m\n\u001b[1;32m----> 2\u001b[1;33m \u001b[0mf1\u001b[0m \u001b[1;33m=\u001b[0m \u001b[0mmetrics\u001b[0m\u001b[1;33m.\u001b[0m\u001b[0mf1_score\u001b[0m\u001b[1;33m(\u001b[0m\u001b[0my_predicted\u001b[0m\u001b[1;33m,\u001b[0m \u001b[0mpredictions\u001b[0m\u001b[1;33m,\u001b[0m \u001b[0maverage\u001b[0m \u001b[1;33m=\u001b[0m \u001b[1;34m'weighted'\u001b[0m\u001b[1;33m)\u001b[0m\u001b[1;33m\u001b[0m\u001b[1;33m\u001b[0m\u001b[0m\n\u001b[0m\u001b[0;32m      3\u001b[0m \u001b[0mf1\u001b[0m\u001b[1;33m\u001b[0m\u001b[1;33m\u001b[0m\u001b[0m\n",
      "\u001b[1;31mNameError\u001b[0m: name 'y_predicted' is not defined"
     ]
    }
   ],
   "source": [
    "from sklearn import metrics\n",
    "f1 = metrics.f1_score(y_predicted, predictions, average = 'weighted')\n",
    "f1"
   ]
  },
  {
   "cell_type": "code",
   "execution_count": null,
   "metadata": {},
   "outputs": [
    {
     "data": {
      "text/plain": [
       "97"
      ]
     },
     "execution_count": 16,
     "metadata": {},
     "output_type": "execute_result"
    }
   ],
   "source": [
    "mismatch"
   ]
  },
  {
   "cell_type": "code",
   "execution_count": null,
   "metadata": {},
   "outputs": [
    {
     "data": {
      "text/plain": [
       "False"
      ]
     },
     "execution_count": 26,
     "metadata": {},
     "output_type": "execute_result"
    }
   ],
   "source": [
    "'Succinivibrionaceae bacterium WG-1'in mismatch_species_pred[1]"
   ]
  },
  {
   "cell_type": "code",
   "execution_count": null,
   "metadata": {},
   "outputs": [
    {
     "data": {
      "text/plain": [
       "[array(['Micromonospora lupini'], dtype='<U50'),\n",
       " array(['Escherichia albertii'], dtype='<U50'),\n",
       " array(['Marvinbryantia formatexigens'], dtype='<U50'),\n",
       " array(['Shewanella sp. MR-4'], dtype='<U50'),\n",
       " array(['Klebsiella oxytoca'], dtype='<U50'),\n",
       " array(['Enterococcus saccharolyticus'], dtype='<U50'),\n",
       " array(['Shigella flexneri'], dtype='<U50'),\n",
       " array(['Micromonospora aurantiaca'], dtype='<U50'),\n",
       " array(['Shewanella sp. MR-7'], dtype='<U50'),\n",
       " array(['Burkholderia sp. SJ98'], dtype='<U50'),\n",
       " array(['Escherichia sp. TW09308'], dtype='<U50'),\n",
       " array(['Burkholderia sp. Ch1-1'], dtype='<U50'),\n",
       " array(['Bacteroides sp. 2_1_56FAA'], dtype='<U50'),\n",
       " array(['Lactobacillus hominis'], dtype='<U50'),\n",
       " array(['Helicobacter acinonychis'], dtype='<U50'),\n",
       " array(['Clostridium sporogenes'], dtype='<U50'),\n",
       " array(['Escherichia fergusonii'], dtype='<U50'),\n",
       " array(['Haloarcula hispanica'], dtype='<U50'),\n",
       " array(['Mycobacterium bovis'], dtype='<U50'),\n",
       " array(['Acidianus hospitalis'], dtype='<U50'),\n",
       " array(['Slackia exigua'], dtype='<U50'),\n",
       " array(['Roseiflexus sp. RS-1'], dtype='<U50'),\n",
       " array(['Bacillus cereus'], dtype='<U50'),\n",
       " array(['Rubrivivax benzoatilyticus'], dtype='<U50'),\n",
       " array(['Bacteroides sp. 3_1_19'], dtype='<U50'),\n",
       " array(['Mycobacterium canettii'], dtype='<U50'),\n",
       " array(['Shewanella benthica'], dtype='<U50'),\n",
       " array(['Alishewanella aestuarii'], dtype='<U50'),\n",
       " array(['Mycoplasma bovis'], dtype='<U50'),\n",
       " array(['Parabacteroides sp. D13'], dtype='<U50'),\n",
       " array(['Escherichia fergusonii'], dtype='<U50'),\n",
       " array(['Escherichia sp. 3_2_53FAA'], dtype='<U50'),\n",
       " array(['Bacillus cereus'], dtype='<U50'),\n",
       " array(['Shigella dysenteriae'], dtype='<U50'),\n",
       " array(['Mycobacterium bovis'], dtype='<U50'),\n",
       " array(['Prosthecochloris aestuarii'], dtype='<U50'),\n",
       " array(['Campylobacter coli'], dtype='<U50'),\n",
       " array(['Candidatus Arthromitus sp. SFB-2'], dtype='<U50'),\n",
       " array(['Clostridium sp. DL-VIII'], dtype='<U50'),\n",
       " array(['Atopobium sp. ICM58'], dtype='<U50'),\n",
       " array(['Klebsiella pneumoniae'], dtype='<U50'),\n",
       " array(['Acidovorax sp. JS42'], dtype='<U50'),\n",
       " array(['Campylobacter coli'], dtype='<U50'),\n",
       " array(['Methylovorus sp. MP688'], dtype='<U50'),\n",
       " array(['Candidatus Arthromitus sp. SFB-5'], dtype='<U50'),\n",
       " array(['Campylobacter coli'], dtype='<U50'),\n",
       " array(['Campylobacter coli'], dtype='<U50'),\n",
       " array(['Shigella flexneri'], dtype='<U50'),\n",
       " array(['Gillisia sp. CBA3202'], dtype='<U50'),\n",
       " array(['Campylobacter coli'], dtype='<U50'),\n",
       " array(['Eggerthella sp. HGA1'], dtype='<U50'),\n",
       " array(['Capnocytophaga sp. oral taxon 412'], dtype='<U50'),\n",
       " array(['Shigella flexneri'], dtype='<U50'),\n",
       " array(['Pseudomonas pseudoalcaligenes'], dtype='<U50'),\n",
       " array(['Propionibacterium avidum'], dtype='<U50'),\n",
       " array(['Bacillus cereus'], dtype='<U50'),\n",
       " array(['Desulfitobacterium hafniense'], dtype='<U50'),\n",
       " array(['Leptospira inadai'], dtype='<U50'),\n",
       " array(['Klebsiella pneumoniae'], dtype='<U50'),\n",
       " array(['Microcystis sp. T1-4'], dtype='<U50'),\n",
       " array(['Bacillus cereus'], dtype='<U50'),\n",
       " array(['Bacillus cereus'], dtype='<U50'),\n",
       " array(['endosymbiont of Tevnia jerichonana'], dtype='<U50'),\n",
       " array(['Campylobacter coli'], dtype='<U50'),\n",
       " array(['Mycoplasma capricolum'], dtype='<U50'),\n",
       " array(['Shigella flexneri'], dtype='<U50'),\n",
       " array(['Brevibacillus sp. CF112'], dtype='<U50'),\n",
       " array(['Capnocytophaga sp. oral taxon 335'], dtype='<U50'),\n",
       " array(['Citrobacter youngae'], dtype='<U50'),\n",
       " array(['Sinorhizobium medicae'], dtype='<U50'),\n",
       " array(['Caulobacter sp. AP07'], dtype='<U50'),\n",
       " array(['Klebsiella pneumoniae'], dtype='<U50'),\n",
       " array(['Gordonia namibiensis'], dtype='<U50'),\n",
       " array(['Micromonospora aurantiaca'], dtype='<U50'),\n",
       " array(['Prevotella sp. oral taxon 472'], dtype='<U50'),\n",
       " array(['Klebsiella pneumoniae'], dtype='<U50'),\n",
       " array(['Streptococcus criceti'], dtype='<U50'),\n",
       " array(['Streptococcus gordonii'], dtype='<U50'),\n",
       " array(['Mycoplasma capricolum'], dtype='<U50'),\n",
       " array(['Vulcanisaeta moutnovskia'], dtype='<U50'),\n",
       " array(['Desulfitobacterium dehalogenans'], dtype='<U50'),\n",
       " array(['Klebsiella sp. 1_1_55'], dtype='<U50'),\n",
       " array(['Desulfotomaculum hydrothermale'], dtype='<U50'),\n",
       " array(['Lactobacillus gastricus'], dtype='<U50'),\n",
       " array(['Streptomyces coelicoflavus'], dtype='<U50'),\n",
       " array(['Enterococcus gallinarum'], dtype='<U50'),\n",
       " array(['Variovorax sp. CF313'], dtype='<U50'),\n",
       " array(['Shigella boydii'], dtype='<U50'),\n",
       " array(['Prevotella sp. C561'], dtype='<U50'),\n",
       " array(['Campylobacter coli'], dtype='<U50'),\n",
       " array(['Micavibrio aeruginosavorus'], dtype='<U50'),\n",
       " array(['Campylobacter coli'], dtype='<U50'),\n",
       " array(['Streptomyces auratus'], dtype='<U50'),\n",
       " array(['Shewanella sp. MR-7'], dtype='<U50'),\n",
       " array(['Campylobacter coli'], dtype='<U50'),\n",
       " array(['Geobacter bemidjiensis'], dtype='<U50'),\n",
       " array(['Pseudomonas sp. 2_1_26'], dtype='<U50')]"
      ]
     },
     "execution_count": 20,
     "metadata": {},
     "output_type": "execute_result"
    }
   ],
   "source": [
    "mismatch_species"
   ]
  },
  {
   "cell_type": "code",
   "execution_count": null,
   "metadata": {},
   "outputs": [
    {
     "data": {
      "text/plain": [
       "2651"
      ]
     },
     "execution_count": 45,
     "metadata": {},
     "output_type": "execute_result"
    }
   ],
   "source": [
    "i\n",
    "# 462"
   ]
  },
  {
   "cell_type": "code",
   "execution_count": null,
   "metadata": {},
   "outputs": [
    {
     "data": {
      "text/plain": [
       "1873"
      ]
     },
     "execution_count": 18,
     "metadata": {},
     "output_type": "execute_result"
    }
   ],
   "source": [
    "predictions"
   ]
  },
  {
   "cell_type": "code",
   "execution_count": 31,
   "metadata": {},
   "outputs": [
    {
     "name": "stdout",
     "output_type": "stream",
     "text": [
      "INFO:tensorflow:Assets written to: k5-net\\assets\n"
     ]
    }
   ],
   "source": [
    "model.save(\"k5-net\")"
   ]
  },
  {
   "cell_type": "code",
   "execution_count": null,
   "metadata": {},
   "outputs": [],
   "source": [
    "from keras.models import load_model"
   ]
  },
  {
   "cell_type": "code",
   "execution_count": null,
   "metadata": {},
   "outputs": [],
   "source": [
    "model = load_model(\"k5-net\")"
   ]
  },
  {
   "cell_type": "code",
   "execution_count": null,
   "metadata": {},
   "outputs": [
    {
     "data": {
      "text/plain": [
       "array(['Acaryochloris marina', 'Acaryochloris marina',\n",
       "       'Acetobacterium woodii', 'Acetobacterium woodii',\n",
       "       'Acetobacterium woodii', 'Acetobacterium woodii',\n",
       "       'Acetobacterium woodii', 'Acetobacter pasteurianus',\n",
       "       'Acetobacter pasteurianus', 'Acetobacter pasteurianus'],\n",
       "      dtype='<U50')"
      ]
     },
     "execution_count": 14,
     "metadata": {},
     "output_type": "execute_result"
    }
   ],
   "source": [
    "lb.inverse_transform(model.predict(x)[0:10])"
   ]
  },
  {
   "cell_type": "code",
   "execution_count": null,
   "metadata": {},
   "outputs": [],
   "source": []
  }
 ],
 "metadata": {
  "kernelspec": {
   "display_name": "Python 3.9.0 64-bit",
   "language": "python",
   "name": "python3"
  },
  "language_info": {
   "codemirror_mode": {
    "name": "ipython",
    "version": 3
   },
   "file_extension": ".py",
   "mimetype": "text/x-python",
   "name": "python",
   "nbconvert_exporter": "python",
   "pygments_lexer": "ipython3",
   "version": "3.9.0"
  },
  "orig_nbformat": 4,
  "vscode": {
   "interpreter": {
    "hash": "de21b79775ae6ec441be05aeae02627cf1c77ac93ea488a19c6ffa595ec3c985"
   }
  }
 },
 "nbformat": 4,
 "nbformat_minor": 2
}
