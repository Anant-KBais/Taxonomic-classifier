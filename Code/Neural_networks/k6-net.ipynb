{
 "cells": [
  {
   "cell_type": "code",
   "execution_count": 1,
   "metadata": {},
   "outputs": [],
   "source": [
    "from sklearn.model_selection import train_test_split\n",
    "import pandas as pd\n",
    "from keras.models import Sequential\n",
    "from keras.layers import Dense\n",
    "import numpy as np"
   ]
  },
  {
   "cell_type": "code",
   "execution_count": 2,
   "metadata": {},
   "outputs": [],
   "source": [
    "y = pd.read_csv(r\"C:\\Users\\anant\\Documents\\GitHub\\Taxonomic_classifier\\Data\\Taxonomic_data.csv\", usecols=['Species'])\n",
    "x = pd.read_csv(K(6)).drop(\"Unnamed: 0\", axis=1)"
   ]
  },
  {
   "cell_type": "code",
   "execution_count": 3,
   "metadata": {},
   "outputs": [
    {
     "name": "stdout",
     "output_type": "stream",
     "text": [
      "4096 columns originally present, \n",
      "614 account for 95 percent variance \n",
      "corresponds to 14.990234375% of total\n"
     ]
    }
   ],
   "source": [
    "from sklearn.decomposition import PCA\n",
    "pca = PCA(n_components=0.95)\n",
    "xx = pca.fit_transform(x)\n",
    "pca.inverse_transform(xx)\n",
    "pca.explained_variance_ratio_.sum()\n",
    "print(f\"{x.shape[1]} columns originally present, \\n{pca.n_components_} account for 95 percent variance \")\n",
    "print(f\"corresponds to {100*pca.n_components_/x.shape[1]}% of total\")"
   ]
  },
  {
   "cell_type": "code",
   "execution_count": 3,
   "metadata": {},
   "outputs": [],
   "source": [
    "train_x, test_x, train_y, test_y = train_test_split(x, y, test_size=0.2, random_state=7)"
   ]
  },
  {
   "cell_type": "code",
   "execution_count": 4,
   "metadata": {},
   "outputs": [
    {
     "data": {
      "text/html": [
       "<div>\n",
       "<style scoped>\n",
       "    .dataframe tbody tr th:only-of-type {\n",
       "        vertical-align: middle;\n",
       "    }\n",
       "\n",
       "    .dataframe tbody tr th {\n",
       "        vertical-align: top;\n",
       "    }\n",
       "\n",
       "    .dataframe thead th {\n",
       "        text-align: right;\n",
       "    }\n",
       "</style>\n",
       "<table border=\"1\" class=\"dataframe\">\n",
       "  <thead>\n",
       "    <tr style=\"text-align: right;\">\n",
       "      <th></th>\n",
       "      <th>Species</th>\n",
       "    </tr>\n",
       "  </thead>\n",
       "  <tbody>\n",
       "    <tr>\n",
       "      <th>count</th>\n",
       "      <td>10601</td>\n",
       "    </tr>\n",
       "    <tr>\n",
       "      <th>unique</th>\n",
       "      <td>2351</td>\n",
       "    </tr>\n",
       "    <tr>\n",
       "      <th>top</th>\n",
       "      <td>Escherichia coli</td>\n",
       "    </tr>\n",
       "    <tr>\n",
       "      <th>freq</th>\n",
       "      <td>712</td>\n",
       "    </tr>\n",
       "  </tbody>\n",
       "</table>\n",
       "</div>"
      ],
      "text/plain": [
       "                 Species\n",
       "count              10601\n",
       "unique              2351\n",
       "top     Escherichia coli\n",
       "freq                 712"
      ]
     },
     "execution_count": 4,
     "metadata": {},
     "output_type": "execute_result"
    }
   ],
   "source": [
    "train_y.describe()"
   ]
  },
  {
   "cell_type": "code",
   "execution_count": 5,
   "metadata": {},
   "outputs": [
    {
     "data": {
      "text/plain": [
       "(10601, 4096)"
      ]
     },
     "execution_count": 5,
     "metadata": {},
     "output_type": "execute_result"
    }
   ],
   "source": [
    "train_x.shape"
   ]
  },
  {
   "cell_type": "code",
   "execution_count": 6,
   "metadata": {},
   "outputs": [],
   "source": [
    "from sklearn import preprocessing\n",
    "lb = preprocessing.LabelBinarizer()\n",
    "lb.fit(y)\n",
    "test_y = lb.transform(test_y)\n",
    "train_y = lb.transform(train_y)\n"
   ]
  },
  {
   "cell_type": "code",
   "execution_count": 7,
   "metadata": {},
   "outputs": [],
   "source": [
    "model = Sequential()\n",
    "model.add(Dense(20, input_shape =(None, train_x.shape[1]) , activation=\"relu\"))\n",
    "model.add(Dense(len(y.Species.unique()),activation='softmax'))"
   ]
  },
  {
   "cell_type": "code",
   "execution_count": 8,
   "metadata": {},
   "outputs": [
    {
     "name": "stdout",
     "output_type": "stream",
     "text": [
      "Model: \"sequential\"\n",
      "_________________________________________________________________\n",
      " Layer (type)                Output Shape              Param #   \n",
      "=================================================================\n",
      " dense (Dense)               (None, None, 20)          81940     \n",
      "                                                                 \n",
      " dense_1 (Dense)             (None, None, 2621)        55041     \n",
      "                                                                 \n",
      "=================================================================\n",
      "Total params: 136,981\n",
      "Trainable params: 136,981\n",
      "Non-trainable params: 0\n",
      "_________________________________________________________________\n"
     ]
    }
   ],
   "source": [
    "model.compile(loss='categorical_crossentropy',optimizer='adam',metrics=['accuracy'])\n",
    "model.summary()"
   ]
  },
  {
   "cell_type": "code",
   "execution_count": 9,
   "metadata": {},
   "outputs": [
    {
     "name": "stdout",
     "output_type": "stream",
     "text": [
      "Epoch 1/25\n",
      "WARNING:tensorflow:Model was constructed with shape (None, None, 4096) for input KerasTensor(type_spec=TensorSpec(shape=(None, None, 4096), dtype=tf.float32, name='dense_input'), name='dense_input', description=\"created by layer 'dense_input'\"), but it was called on an input with incompatible shape (None, 4096).\n",
      "WARNING:tensorflow:Model was constructed with shape (None, None, 4096) for input KerasTensor(type_spec=TensorSpec(shape=(None, None, 4096), dtype=tf.float32, name='dense_input'), name='dense_input', description=\"created by layer 'dense_input'\"), but it was called on an input with incompatible shape (None, 4096).\n",
      "332/332 [==============================] - 2s 4ms/step - loss: 5.3187 - accuracy: 0.2614\n",
      "Epoch 2/25\n",
      "332/332 [==============================] - 1s 3ms/step - loss: 3.6384 - accuracy: 0.4207\n",
      "Epoch 3/25\n",
      "332/332 [==============================] - 1s 3ms/step - loss: 2.8249 - accuracy: 0.5092\n",
      "Epoch 4/25\n",
      "332/332 [==============================] - 1s 3ms/step - loss: 2.2005 - accuracy: 0.5865\n",
      "Epoch 5/25\n",
      "332/332 [==============================] - 1s 3ms/step - loss: 1.7166 - accuracy: 0.6522\n",
      "Epoch 6/25\n",
      "332/332 [==============================] - 1s 3ms/step - loss: 1.3596 - accuracy: 0.6972\n",
      "Epoch 7/25\n",
      "332/332 [==============================] - 1s 3ms/step - loss: 1.1080 - accuracy: 0.7288\n",
      "Epoch 8/25\n",
      "332/332 [==============================] - 1s 3ms/step - loss: 0.9151 - accuracy: 0.7645\n",
      "Epoch 9/25\n",
      "332/332 [==============================] - 1s 3ms/step - loss: 0.7817 - accuracy: 0.7893\n",
      "Epoch 10/25\n",
      "332/332 [==============================] - 1s 3ms/step - loss: 0.6869 - accuracy: 0.8079\n",
      "Epoch 11/25\n",
      "332/332 [==============================] - 1s 3ms/step - loss: 0.6127 - accuracy: 0.8243\n",
      "Epoch 12/25\n",
      "332/332 [==============================] - 1s 3ms/step - loss: 0.5503 - accuracy: 0.8382\n",
      "Epoch 13/25\n",
      "332/332 [==============================] - 1s 3ms/step - loss: 0.5077 - accuracy: 0.8494\n",
      "Epoch 14/25\n",
      "332/332 [==============================] - 1s 3ms/step - loss: 0.4665 - accuracy: 0.8571\n",
      "Epoch 15/25\n",
      "332/332 [==============================] - 1s 3ms/step - loss: 0.4340 - accuracy: 0.8689\n",
      "Epoch 16/25\n",
      "332/332 [==============================] - 1s 3ms/step - loss: 0.4090 - accuracy: 0.8710\n",
      "Epoch 17/25\n",
      "332/332 [==============================] - 1s 3ms/step - loss: 0.3940 - accuracy: 0.8775\n",
      "Epoch 18/25\n",
      "332/332 [==============================] - 1s 4ms/step - loss: 0.3771 - accuracy: 0.8794\n",
      "Epoch 19/25\n",
      "332/332 [==============================] - 1s 4ms/step - loss: 0.3584 - accuracy: 0.8837\n",
      "Epoch 20/25\n",
      "332/332 [==============================] - 1s 4ms/step - loss: 0.3387 - accuracy: 0.8877\n",
      "Epoch 21/25\n",
      "332/332 [==============================] - 1s 3ms/step - loss: 0.3269 - accuracy: 0.8960\n",
      "Epoch 22/25\n",
      "332/332 [==============================] - 1s 4ms/step - loss: 0.3218 - accuracy: 0.8960\n",
      "Epoch 23/25\n",
      "332/332 [==============================] - 2s 4ms/step - loss: 0.3068 - accuracy: 0.8981\n",
      "Epoch 24/25\n",
      "332/332 [==============================] - 1s 4ms/step - loss: 0.2929 - accuracy: 0.9040\n",
      "Epoch 25/25\n",
      "332/332 [==============================] - 1s 4ms/step - loss: 0.2984 - accuracy: 0.9010\n"
     ]
    },
    {
     "data": {
      "text/plain": [
       "<keras.callbacks.History at 0x2777641a790>"
      ]
     },
     "execution_count": 9,
     "metadata": {},
     "output_type": "execute_result"
    }
   ],
   "source": [
    "model.fit(train_x, train_y, epochs = 25)"
   ]
  },
  {
   "cell_type": "code",
   "execution_count": 10,
   "metadata": {},
   "outputs": [
    {
     "name": "stdout",
     "output_type": "stream",
     "text": [
      "WARNING:tensorflow:Model was constructed with shape (None, None, 4096) for input KerasTensor(type_spec=TensorSpec(shape=(None, None, 4096), dtype=tf.float32, name='dense_input'), name='dense_input', description=\"created by layer 'dense_input'\"), but it was called on an input with incompatible shape (None, 4096).\n",
      "83/83 [==============================] - 0s 3ms/step - loss: 3.8126 - accuracy: 0.8144\n"
     ]
    },
    {
     "data": {
      "text/plain": [
       "[3.812619686126709, 0.8144096732139587]"
      ]
     },
     "execution_count": 10,
     "metadata": {},
     "output_type": "execute_result"
    }
   ],
   "source": [
    "model.evaluate(test_x, test_y)"
   ]
  },
  {
   "cell_type": "code",
   "execution_count": 13,
   "metadata": {},
   "outputs": [
    {
     "data": {
      "text/plain": [
       "0.7957873409246279"
      ]
     },
     "execution_count": 13,
     "metadata": {},
     "output_type": "execute_result"
    }
   ],
   "source": [
    "from sklearn import metrics\n",
    "f1 = metrics.f1_score( lb.inverse_transform(test_y), lb.inverse_transform(model.predict(test_x)), average='weighted')\n",
    "f1\n"
   ]
  },
  {
   "cell_type": "code",
   "execution_count": 16,
   "metadata": {},
   "outputs": [
    {
     "name": "stdout",
     "output_type": "stream",
     "text": [
      "WARNING:tensorflow:Model was constructed with shape (None, None, 4096) for input KerasTensor(type_spec=TensorSpec(shape=(None, None, 4096), dtype=tf.float32, name='dense_2_input'), name='dense_2_input', description=\"created by layer 'dense_2_input'\"), but it was called on an input with incompatible shape (None, 4096).\n",
      "105\n"
     ]
    }
   ],
   "source": [
    "i = 0\n",
    "mismatch = 0\n",
    "npredictions = 0\n",
    "predictions = []\n",
    "mismatch_species = []\n",
    "mismatch_species_pred = []\n",
    "y_tested = []\n",
    "for y in test_y:\n",
    "    a = model.predict(test_x[i:i+1]) \n",
    "    if a.max()>0.8:\n",
    "        sp = lb.inverse_transform(np.array([y]))\n",
    "        p_sp = lb.inverse_transform(a)\n",
    "        if p_sp!=sp :\n",
    "            mismatch_species.append(sp)\n",
    "            mismatch_species_pred.append(p_sp)\n",
    "            mismatch += 1\n",
    "        npredictions += 1\n",
    "        predictions.append(p_sp)\n",
    "        y_tested.append(sp)\n",
    "    i  += 1\n",
    "print(mismatch)"
   ]
  },
  {
   "cell_type": "code",
   "execution_count": null,
   "metadata": {},
   "outputs": [],
   "source": [
    "from sklearn import metrics\n",
    "f1 = metrics.f1_score(y_predicted, predictions, average = 'weighted')\n",
    "f1"
   ]
  },
  {
   "cell_type": "code",
   "execution_count": 17,
   "metadata": {},
   "outputs": [
    {
     "data": {
      "text/plain": [
       "105"
      ]
     },
     "execution_count": 17,
     "metadata": {},
     "output_type": "execute_result"
    }
   ],
   "source": [
    "mismatch"
   ]
  },
  {
   "cell_type": "code",
   "execution_count": 18,
   "metadata": {},
   "outputs": [
    {
     "data": {
      "text/plain": [
       "[array(['Micromonospora sp. L5'], dtype='<U50'),\n",
       " array(['Candidatus Hamiltonella defensa'], dtype='<U50'),\n",
       " array(['Escherichia coli'], dtype='<U50'),\n",
       " array(['Providencia rustigianii'], dtype='<U50'),\n",
       " array(['Acidovorax avenae'], dtype='<U50'),\n",
       " array(['Micromonospora sp. L5'], dtype='<U50'),\n",
       " array(['Bacillus subtilis'], dtype='<U50'),\n",
       " array(['Burkholderia sp. YI23'], dtype='<U50'),\n",
       " array(['Acidiphilium multivorum'], dtype='<U50'),\n",
       " array(['Escherichia coli'], dtype='<U50'),\n",
       " array(['Bacillus cereus'], dtype='<U50'),\n",
       " array(['Bacteroides fragilis'], dtype='<U50'),\n",
       " array(['Caldicellulosiruptor lactoaceticus'], dtype='<U50'),\n",
       " array(['Geobacter sp. M21'], dtype='<U50'),\n",
       " array(['Lactobacillus gasseri'], dtype='<U50'),\n",
       " array(['Achromobacter xylosoxidans'], dtype='<U50'),\n",
       " array(['Bacteroides thetaiotaomicron'], dtype='<U50'),\n",
       " array(['Pseudomonas fluorescens'], dtype='<U50'),\n",
       " array(['Clostridium botulinum'], dtype='<U50'),\n",
       " array(['Escherichia coli'], dtype='<U50'),\n",
       " array(['Lactobacillus sp. 7_1_47FAA'], dtype='<U50'),\n",
       " array(['Haloarcula marismortui'], dtype='<U50'),\n",
       " array(['Geobacter sp. M21'], dtype='<U50'),\n",
       " array(['Chloroflexus aurantiacus'], dtype='<U50'),\n",
       " array(['Slackia sp. CM382'], dtype='<U50'),\n",
       " array(['Rhodospirillum photometricum'], dtype='<U50'),\n",
       " array(['Brachybacterium faecium'], dtype='<U50'),\n",
       " array(['Rubrivivax gelatinosus'], dtype='<U50'),\n",
       " array(['Candidatus Nitrosopumilus sp. AR2'], dtype='<U50'),\n",
       " array(['Parabacteroides distasonis'], dtype='<U50'),\n",
       " array(['Opitutaceae bacterium TAV1'], dtype='<U50'),\n",
       " array(['Enterobacter cloacae'], dtype='<U50'),\n",
       " array(['Parabacteroides distasonis'], dtype='<U50'),\n",
       " array(['Mycoplasma leachii'], dtype='<U50'),\n",
       " array(['Escherichia coli'], dtype='<U50'),\n",
       " array(['Methylobacterium nodulans'], dtype='<U50'),\n",
       " array(['Candidatus Nitrosopumilus sp. AR2'], dtype='<U50'),\n",
       " array(['Mycoplasma leachii'], dtype='<U50'),\n",
       " array(['Bordetella avium'], dtype='<U50'),\n",
       " array(['Synechococcus sp. WH 8109'], dtype='<U50'),\n",
       " array(['Campylobacter coli'], dtype='<U50'),\n",
       " array(['Clostridium beijerinckii'], dtype='<U50'),\n",
       " array(['Campylobacter coli'], dtype='<U50'),\n",
       " array(['Ruminococcus lactaris'], dtype='<U50'),\n",
       " array(['Klebsiella variicola'], dtype='<U50'),\n",
       " array(['Acidovorax sp. JS42'], dtype='<U50'),\n",
       " array(['Lactobacillus brevis'], dtype='<U50'),\n",
       " array(['Bacillus cereus'], dtype='<U50'),\n",
       " array(['Rhodomicrobium vannielii'], dtype='<U50'),\n",
       " array(['Segniliparus rotundus'], dtype='<U50'),\n",
       " array(['Bacillus cereus'], dtype='<U50'),\n",
       " array(['Lactobacillus sp. 7_1_47FAA'], dtype='<U50'),\n",
       " array(['Bacillus cereus'], dtype='<U50'),\n",
       " array(['Calothrix sp. PCC 7507'], dtype='<U50'),\n",
       " array(['Methylocystis sp. ATCC 49242'], dtype='<U50'),\n",
       " array(['Lactobacillus sp. 7_1_47FAA'], dtype='<U50'),\n",
       " array(['Campylobacter coli'], dtype='<U50'),\n",
       " array(['Methanobacterium sp. Maddingley MBC34'], dtype='<U50'),\n",
       " array(['Klebsiella variicola'], dtype='<U50'),\n",
       " array(['Providencia rustigianii'], dtype='<U50'),\n",
       " array(['Nitrobacter winogradskyi'], dtype='<U50'),\n",
       " array(['Microcystis aeruginosa'], dtype='<U50'),\n",
       " array(['Muricauda ruestringensis'], dtype='<U50'),\n",
       " array(['endosymbiont of Riftia pachyptila'], dtype='<U50'),\n",
       " array(['Bacillus subtilis'], dtype='<U50'),\n",
       " array(['Streptomyces sp. SA3_actG'], dtype='<U50'),\n",
       " array(['Mycoplasma leachii'], dtype='<U50'),\n",
       " array(['Escherichia coli'], dtype='<U50'),\n",
       " array(['Nitrosococcus watsonii'], dtype='<U50'),\n",
       " array(['Peptostreptococcus stomatis'], dtype='<U50'),\n",
       " array(['Bacillus cereus'], dtype='<U50'),\n",
       " array(['Mycobacterium vaccae'], dtype='<U50'),\n",
       " array(['Paenibacillus sp. JC66'], dtype='<U50'),\n",
       " array(['Streptococcus equinus'], dtype='<U50'),\n",
       " array(['Klebsiella variicola'], dtype='<U50'),\n",
       " array(['Streptococcus sp. C150'], dtype='<U50'),\n",
       " array(['Nitrosococcus watsonii'], dtype='<U50'),\n",
       " array(['Micromonospora sp. L5'], dtype='<U50'),\n",
       " array(['Prevotella denticola'], dtype='<U50'),\n",
       " array(['Leptospira interrogans'], dtype='<U50'),\n",
       " array(['Lactobacillus sp. 7_1_47FAA'], dtype='<U50'),\n",
       " array(['Klebsiella variicola'], dtype='<U50'),\n",
       " array(['Bordetella avium'], dtype='<U50'),\n",
       " array(['Campylobacter coli'], dtype='<U50'),\n",
       " array(['Leptospira santarosai'], dtype='<U50'),\n",
       " array(['Sphingomonas echinoides'], dtype='<U50'),\n",
       " array(['Mycoplasma leachii'], dtype='<U50'),\n",
       " array(['Klebsiella variicola'], dtype='<U50'),\n",
       " array(['Cellulomonas fimi'], dtype='<U50'),\n",
       " array(['Bacillus cereus'], dtype='<U50'),\n",
       " array(['Variovorax paradoxus'], dtype='<U50'),\n",
       " array(['Escherichia coli'], dtype='<U50'),\n",
       " array(['Campylobacter coli'], dtype='<U50'),\n",
       " array(['Halogranum salarium'], dtype='<U50'),\n",
       " array(['Streptomyces rimosus'], dtype='<U50'),\n",
       " array(['Streptomyces sp. SirexAA-E'], dtype='<U50'),\n",
       " array(['Geobacter sp. M21'], dtype='<U50'),\n",
       " array(['Glaciecola sp. 4H-3-7+YE-5'], dtype='<U50'),\n",
       " array(['Pseudomonas aeruginosa'], dtype='<U50'),\n",
       " array(['Peptostreptococcus stomatis'], dtype='<U50'),\n",
       " array(['Synechococcus sp. WH 8109'], dtype='<U50'),\n",
       " array(['Chloroflexus aurantiacus'], dtype='<U50'),\n",
       " array(['Succinivibrionaceae bacterium WG-1'], dtype='<U50'),\n",
       " array(['Hydrogenobacter thermophilus'], dtype='<U50'),\n",
       " array(['Mycobacterium vaccae'], dtype='<U50')]"
      ]
     },
     "execution_count": 18,
     "metadata": {},
     "output_type": "execute_result"
    }
   ],
   "source": [
    "mismatch_species_pred"
   ]
  },
  {
   "cell_type": "code",
   "execution_count": null,
   "metadata": {},
   "outputs": [
    {
     "data": {
      "text/plain": [
       "[array(['Candidatus Regiella insecticola'], dtype='<U50'),\n",
       " array(['Escherichia albertii'], dtype='<U50'),\n",
       " array(['Bacillus anthracis'], dtype='<U50'),\n",
       " array(['Enterococcus saccharolyticus'], dtype='<U50'),\n",
       " array(['Micromonospora aurantiaca'], dtype='<U50'),\n",
       " array(['Erysipelotrichaceae bacterium 21_3'], dtype='<U50'),\n",
       " array(['Gemella haemolysans'], dtype='<U50'),\n",
       " array(['Borrelia sp. SV1'], dtype='<U50'),\n",
       " array(['Terriglobus saanensis'], dtype='<U50'),\n",
       " array(['Burkholderia sp. SJ98'], dtype='<U50'),\n",
       " array(['Escherichia sp. TW09308'], dtype='<U50'),\n",
       " array(['Fusobacterium nucleatum'], dtype='<U50'),\n",
       " array(['Francisella novicida'], dtype='<U50'),\n",
       " array(['Burkholderia oklahomensis'], dtype='<U50'),\n",
       " array(['Haemophilus parahaemolyticus'], dtype='<U50'),\n",
       " array(['Bacteroides sp. 2_1_56FAA'], dtype='<U50'),\n",
       " array(['Lactobacillus hominis'], dtype='<U50'),\n",
       " array(['Aciduliprofundum sp. MAR08-339'], dtype='<U50'),\n",
       " array(['Rickettsia philipii'], dtype='<U50'),\n",
       " array(['Pseudomonas coronafaciens'], dtype='<U50'),\n",
       " array(['Nitrosococcus halophilus'], dtype='<U50'),\n",
       " array(['Bacillus anthracis'], dtype='<U50'),\n",
       " array(['Escherichia fergusonii'], dtype='<U50'),\n",
       " array(['Burkholderia oklahomensis'], dtype='<U50'),\n",
       " array(['Chloroflexus sp. Y-400-fl'], dtype='<U50'),\n",
       " array(['Mesorhizobium ciceri'], dtype='<U50'),\n",
       " array(['Slackia exigua'], dtype='<U50'),\n",
       " array(['Brachybacterium paraconglomeratum'], dtype='<U50'),\n",
       " array(['Mesorhizobium ciceri'], dtype='<U50'),\n",
       " array(['Streptomyces flavogriseus'], dtype='<U50'),\n",
       " array(['Oribacterium sp. ACB7'], dtype='<U50'),\n",
       " array(['Erysipelotrichaceae bacterium 5_2_54FAA'], dtype='<U50'),\n",
       " array(['Rubrivivax benzoatilyticus'], dtype='<U50'),\n",
       " array(['Bacteroides sp. 3_1_19'], dtype='<U50'),\n",
       " array(['Opitutaceae bacterium TAV5'], dtype='<U50'),\n",
       " array(['Shewanella benthica'], dtype='<U50'),\n",
       " array(['Enterobacter sp. SST3'], dtype='<U50'),\n",
       " array(['Parabacteroides sp. D13'], dtype='<U50'),\n",
       " array(['Rhodanobacter sp. 2APBS1'], dtype='<U50'),\n",
       " array(['Roseburia intestinalis'], dtype='<U50'),\n",
       " array(['Escherichia sp. 3_2_53FAA'], dtype='<U50'),\n",
       " array(['Bordetella parapertussis'], dtype='<U50'),\n",
       " array(['Vibrio ordalii'], dtype='<U50'),\n",
       " array(['Shigella dysenteriae'], dtype='<U50'),\n",
       " array(['Synechococcus sp. CC9605'], dtype='<U50'),\n",
       " array(['Halomonas sp. TD01'], dtype='<U50'),\n",
       " array(['Scardovia inopinata'], dtype='<U50'),\n",
       " array(['Shigella sonnei'], dtype='<U50'),\n",
       " array(['Candidatus Arthromitus sp. SFB-2'], dtype='<U50'),\n",
       " array(['Clostridium sp. DL-VIII'], dtype='<U50'),\n",
       " array(['Atopobium sp. ICM58'], dtype='<U50'),\n",
       " array(['Alistipes sp. JC136'], dtype='<U50'),\n",
       " array(['Phaeospirillum molischianum'], dtype='<U50'),\n",
       " array(['Cellulomonas flavigena'], dtype='<U50'),\n",
       " array(['Nitrosococcus halophilus'], dtype='<U50'),\n",
       " array(['Lactobacillus pasteurii'], dtype='<U50'),\n",
       " array(['Campylobacter coli'], dtype='<U50'),\n",
       " array(['Afipia sp. 1NLS2'], dtype='<U50'),\n",
       " array(['Candidatus Arthromitus sp. SFB-5'], dtype='<U50'),\n",
       " array(['Microbacterium laevaniformans'], dtype='<U50'),\n",
       " array(['Parvimonas micra'], dtype='<U50'),\n",
       " array(['Propionibacterium acnes'], dtype='<U50'),\n",
       " array(['Olsenella sp. oral taxon 809'], dtype='<U50'),\n",
       " array(['Streptococcus vestibularis'], dtype='<U50'),\n",
       " array(['Campylobacter coli'], dtype='<U50'),\n",
       " array(['Providencia rettgeri'], dtype='<U50'),\n",
       " array(['Campylobacter coli'], dtype='<U50'),\n",
       " array(['Shigella flexneri'], dtype='<U50'),\n",
       " array(['Enterococcus casseliflavus'], dtype='<U50'),\n",
       " array(['Gillisia sp. CBA3202'], dtype='<U50'),\n",
       " array(['Campylobacter coli'], dtype='<U50'),\n",
       " array(['Eggerthella sp. HGA1'], dtype='<U50'),\n",
       " array(['Prevotella oralis'], dtype='<U50'),\n",
       " array(['Capnocytophaga sp. oral taxon 412'], dtype='<U50'),\n",
       " array(['Propionibacterium avidum'], dtype='<U50'),\n",
       " array(['Klebsiella sp. 4_1_44FAA'], dtype='<U50'),\n",
       " array(['Synechococcus sp. RS9916'], dtype='<U50'),\n",
       " array(['Fusobacterium gonidiaformans'], dtype='<U50'),\n",
       " array(['Leptospira inadai'], dtype='<U50'),\n",
       " array(['Nitrobacter sp. Nb-311A'], dtype='<U50'),\n",
       " array(['Microcystis sp. T1-4'], dtype='<U50'),\n",
       " array(['Pyrobaculum neutrophilum'], dtype='<U50'),\n",
       " array(['Desulfurococcus kamchatkensis'], dtype='<U50'),\n",
       " array(['Parasutterella excrementihominis'], dtype='<U50'),\n",
       " array(['endosymbiont of Tevnia jerichonana'], dtype='<U50'),\n",
       " array(['Streptomyces sp. Tu6071'], dtype='<U50'),\n",
       " array(['Clostridium sp. HGF2'], dtype='<U50'),\n",
       " array(['Campylobacter coli'], dtype='<U50'),\n",
       " array(['Methanolinea tarda'], dtype='<U50'),\n",
       " array(['Mycoplasma capricolum'], dtype='<U50'),\n",
       " array(['Yersinia pseudotuberculosis'], dtype='<U50'),\n",
       " array(['Sphingomonas sp. PAMC 26605'], dtype='<U50'),\n",
       " array(['Brevibacillus sp. CF112'], dtype='<U50'),\n",
       " array(['Capnocytophaga sp. oral taxon 335'], dtype='<U50'),\n",
       " array(['Calyptogena okutanii thioautotrophic gill symbiont'], dtype='<U50'),\n",
       " array(['Grimontia sp. AK16'], dtype='<U50'),\n",
       " array(['Bartonella taylorii'], dtype='<U50'),\n",
       " array(['Peptostreptococcus anaerobius'], dtype='<U50'),\n",
       " array(['Thermogladius cellulolyticus'], dtype='<U50'),\n",
       " array(['Streptomyces ghanaensis'], dtype='<U50'),\n",
       " array(['Caulobacter sp. AP07'], dtype='<U50'),\n",
       " array(['Bacillus thuringiensis'], dtype='<U50'),\n",
       " array(['Clostridium symbiosum'], dtype='<U50'),\n",
       " array(['Streptococcus salivarius'], dtype='<U50'),\n",
       " array(['Micromonospora aurantiaca'], dtype='<U50'),\n",
       " array(['Prevotella sp. oral taxon 472'], dtype='<U50'),\n",
       " array(['Oceanibulbus indolifex'], dtype='<U50'),\n",
       " array(['Geobacter sp. M21'], dtype='<U50'),\n",
       " array(['Leptospira sp. Fiocruz LV3954'], dtype='<U50'),\n",
       " array(['Sphingomonas sp. PAMC 26621'], dtype='<U50'),\n",
       " array(['Enterobacteriaceae bacterium 9_2_54FAA'], dtype='<U50'),\n",
       " array(['Mycoplasma capricolum'], dtype='<U50'),\n",
       " array(['Geobacter sp. M21'], dtype='<U50'),\n",
       " array(['Bacillus anthracis'], dtype='<U50'),\n",
       " array(['Streptomyces coelicoflavus'], dtype='<U50'),\n",
       " array(['Collinsella intestinalis'], dtype='<U50'),\n",
       " array(['Cellulomonas flavigena'], dtype='<U50'),\n",
       " array(['Bacillus thuringiensis'], dtype='<U50'),\n",
       " array(['Enterococcus gallinarum'], dtype='<U50'),\n",
       " array(['Variovorax sp. CF313'], dtype='<U50'),\n",
       " array(['Shigella boydii'], dtype='<U50'),\n",
       " array(['Streptococcus macacae'], dtype='<U50'),\n",
       " array(['Borrelia duttonii'], dtype='<U50'),\n",
       " array(['Thermococcus litoralis'], dtype='<U50'),\n",
       " array(['Streptomyces sp. W007'], dtype='<U50'),\n",
       " array(['Bacillus anthracis'], dtype='<U50'),\n",
       " array(['Campylobacter coli'], dtype='<U50'),\n",
       " array(['Acinetobacter haemolyticus'], dtype='<U50'),\n",
       " array(['Glaciecola chathamensis'], dtype='<U50'),\n",
       " array(['Pseudomonas sp. 2_1_26'], dtype='<U50'),\n",
       " array(['Peptostreptococcus anaerobius'], dtype='<U50'),\n",
       " array(['Gemella haemolysans'], dtype='<U50'),\n",
       " array(['Yersinia pseudotuberculosis'], dtype='<U50'),\n",
       " array(['Synechococcus sp. CC9605'], dtype='<U50'),\n",
       " array(['Pyrobaculum aerophilum'], dtype='<U50'),\n",
       " array(['Chloroflexus sp. Y-400-fl'], dtype='<U50')]"
      ]
     },
     "execution_count": 43,
     "metadata": {},
     "output_type": "execute_result"
    }
   ],
   "source": [
    "mismatch_species"
   ]
  },
  {
   "cell_type": "code",
   "execution_count": null,
   "metadata": {},
   "outputs": [
    {
     "data": {
      "text/plain": [
       "2651"
      ]
     },
     "execution_count": 45,
     "metadata": {},
     "output_type": "execute_result"
    }
   ],
   "source": [
    "i\n",
    "# 462"
   ]
  },
  {
   "cell_type": "code",
   "execution_count": null,
   "metadata": {},
   "outputs": [
    {
     "data": {
      "text/plain": [
       "2169"
      ]
     },
     "execution_count": 46,
     "metadata": {},
     "output_type": "execute_result"
    }
   ],
   "source": [
    "predictions"
   ]
  },
  {
   "cell_type": "code",
   "execution_count": null,
   "metadata": {},
   "outputs": [
    {
     "data": {
      "text/plain": [
       "0.991327"
      ]
     },
     "execution_count": 235,
     "metadata": {},
     "output_type": "execute_result"
    }
   ],
   "source": [
    "model.predict(test_x[0:1]).max()\n"
   ]
  },
  {
   "cell_type": "code",
   "execution_count": 19,
   "metadata": {},
   "outputs": [
    {
     "name": "stdout",
     "output_type": "stream",
     "text": [
      "INFO:tensorflow:Assets written to: k6-net\\assets\n"
     ]
    }
   ],
   "source": [
    "model.save(\"k6-net\")"
   ]
  }
 ],
 "metadata": {
  "kernelspec": {
   "display_name": "Python 3.9.0 64-bit",
   "language": "python",
   "name": "python3"
  },
  "language_info": {
   "codemirror_mode": {
    "name": "ipython",
    "version": 3
   },
   "file_extension": ".py",
   "mimetype": "text/x-python",
   "name": "python",
   "nbconvert_exporter": "python",
   "pygments_lexer": "ipython3",
   "version": "3.9.0"
  },
  "orig_nbformat": 4,
  "vscode": {
   "interpreter": {
    "hash": "de21b79775ae6ec441be05aeae02627cf1c77ac93ea488a19c6ffa595ec3c985"
   }
  }
 },
 "nbformat": 4,
 "nbformat_minor": 2
}
