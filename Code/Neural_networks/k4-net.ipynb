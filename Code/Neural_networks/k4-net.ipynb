{
 "cells": [
  {
   "cell_type": "code",
   "execution_count": 4,
   "metadata": {},
   "outputs": [],
   "source": [
    "from sklearn.model_selection import train_test_split\n",
    "import pandas as pd\n",
    "from keras.models import Sequential\n",
    "from keras.layers import Dense\n",
    "import numpy as np"
   ]
  },
  {
   "cell_type": "code",
   "execution_count": 5,
   "metadata": {},
   "outputs": [],
   "source": [
    "y = pd.read_csv(r\"C:\\Users\\anant\\Documents\\GitHub\\Taxonomic_classifier\\Data\\Taxonomic_data.csv\", usecols=['Species'])\n",
    "x = pd.read_csv(r\"C:\\Users\\anant\\Documents\\GitHub\\Taxonomic_classifier\\Data\\k(4)mer_data.csv\").drop(\"Unnamed: 0\", axis=1)"
   ]
  },
  {
   "cell_type": "code",
   "execution_count": 6,
   "metadata": {},
   "outputs": [
    {
     "name": "stdout",
     "output_type": "stream",
     "text": [
      "256 columns originally present, \n",
      "115 account for 95 percent variance \n",
      "corresponds to 44.921875% of total\n"
     ]
    }
   ],
   "source": [
    "from sklearn.decomposition import PCA\n",
    "pca = PCA(n_components=0.95)\n",
    "xx = pca.fit_transform(x)\n",
    "pca.inverse_transform(xx)\n",
    "pca.explained_variance_ratio_.sum()\n",
    "print(f\"{x.shape[1]} columns originally present, \\n{pca.n_components_} account for 95 percent variance \")\n",
    "print(f\"corresponds to {100*pca.n_components_/x.shape[1]}% of total\")"
   ]
  },
  {
   "cell_type": "code",
   "execution_count": 7,
   "metadata": {},
   "outputs": [],
   "source": [
    "train_x, test_x, train_y, test_y = train_test_split(xx, y, test_size=0.2, random_state=7)"
   ]
  },
  {
   "cell_type": "code",
   "execution_count": 8,
   "metadata": {},
   "outputs": [
    {
     "data": {
      "text/html": [
       "<div>\n",
       "<style scoped>\n",
       "    .dataframe tbody tr th:only-of-type {\n",
       "        vertical-align: middle;\n",
       "    }\n",
       "\n",
       "    .dataframe tbody tr th {\n",
       "        vertical-align: top;\n",
       "    }\n",
       "\n",
       "    .dataframe thead th {\n",
       "        text-align: right;\n",
       "    }\n",
       "</style>\n",
       "<table border=\"1\" class=\"dataframe\">\n",
       "  <thead>\n",
       "    <tr style=\"text-align: right;\">\n",
       "      <th></th>\n",
       "      <th>Species</th>\n",
       "    </tr>\n",
       "  </thead>\n",
       "  <tbody>\n",
       "    <tr>\n",
       "      <th>count</th>\n",
       "      <td>10601</td>\n",
       "    </tr>\n",
       "    <tr>\n",
       "      <th>unique</th>\n",
       "      <td>2351</td>\n",
       "    </tr>\n",
       "    <tr>\n",
       "      <th>top</th>\n",
       "      <td>Escherichia coli</td>\n",
       "    </tr>\n",
       "    <tr>\n",
       "      <th>freq</th>\n",
       "      <td>712</td>\n",
       "    </tr>\n",
       "  </tbody>\n",
       "</table>\n",
       "</div>"
      ],
      "text/plain": [
       "                 Species\n",
       "count              10601\n",
       "unique              2351\n",
       "top     Escherichia coli\n",
       "freq                 712"
      ]
     },
     "execution_count": 8,
     "metadata": {},
     "output_type": "execute_result"
    }
   ],
   "source": [
    "train_y.describe()"
   ]
  },
  {
   "cell_type": "code",
   "execution_count": 9,
   "metadata": {},
   "outputs": [
    {
     "data": {
      "text/plain": [
       "(10601, 115)"
      ]
     },
     "execution_count": 9,
     "metadata": {},
     "output_type": "execute_result"
    }
   ],
   "source": [
    "train_x.shape"
   ]
  },
  {
   "cell_type": "code",
   "execution_count": 10,
   "metadata": {},
   "outputs": [],
   "source": [
    "from sklearn import preprocessing\n",
    "lb = preprocessing.LabelBinarizer()\n",
    "lb.fit(y)\n",
    "test_y = lb.transform(test_y)\n",
    "train_y = lb.transform(train_y)\n"
   ]
  },
  {
   "cell_type": "code",
   "execution_count": 11,
   "metadata": {},
   "outputs": [],
   "source": [
    "model = Sequential()\n",
    "model.add(Dense(20, input_shape =(None, train_x.shape[1]) , activation=\"relu\"))\n",
    "model.add(Dense(len(y.Species.unique()),activation='softmax'))"
   ]
  },
  {
   "cell_type": "code",
   "execution_count": 12,
   "metadata": {},
   "outputs": [
    {
     "name": "stdout",
     "output_type": "stream",
     "text": [
      "Model: \"sequential\"\n",
      "_________________________________________________________________\n",
      " Layer (type)                Output Shape              Param #   \n",
      "=================================================================\n",
      " dense (Dense)               (None, None, 20)          2320      \n",
      "                                                                 \n",
      " dense_1 (Dense)             (None, None, 2621)        55041     \n",
      "                                                                 \n",
      "=================================================================\n",
      "Total params: 57,361\n",
      "Trainable params: 57,361\n",
      "Non-trainable params: 0\n",
      "_________________________________________________________________\n"
     ]
    }
   ],
   "source": [
    "model.compile(loss='categorical_crossentropy',optimizer='adam',metrics=['accuracy'])\n",
    "model.summary()"
   ]
  },
  {
   "cell_type": "code",
   "execution_count": 13,
   "metadata": {},
   "outputs": [
    {
     "name": "stdout",
     "output_type": "stream",
     "text": [
      "Epoch 1/30\n",
      "WARNING:tensorflow:Model was constructed with shape (None, None, 115) for input KerasTensor(type_spec=TensorSpec(shape=(None, None, 115), dtype=tf.float32, name='dense_input'), name='dense_input', description=\"created by layer 'dense_input'\"), but it was called on an input with incompatible shape (None, 115).\n",
      "WARNING:tensorflow:Model was constructed with shape (None, None, 115) for input KerasTensor(type_spec=TensorSpec(shape=(None, None, 115), dtype=tf.float32, name='dense_input'), name='dense_input', description=\"created by layer 'dense_input'\"), but it was called on an input with incompatible shape (None, 115).\n",
      "332/332 [==============================] - 1s 3ms/step - loss: 5.0120 - accuracy: 0.2898\n",
      "Epoch 2/30\n",
      "332/332 [==============================] - 1s 3ms/step - loss: 2.4786 - accuracy: 0.5464\n",
      "Epoch 3/30\n",
      "332/332 [==============================] - 1s 3ms/step - loss: 1.5555 - accuracy: 0.6699\n",
      "Epoch 4/30\n",
      "332/332 [==============================] - 1s 3ms/step - loss: 1.0453 - accuracy: 0.7567\n",
      "Epoch 5/30\n",
      "332/332 [==============================] - 1s 3ms/step - loss: 0.7557 - accuracy: 0.8061\n",
      "Epoch 6/30\n",
      "332/332 [==============================] - 1s 3ms/step - loss: 0.5902 - accuracy: 0.8400\n",
      "Epoch 7/30\n",
      "332/332 [==============================] - 1s 2ms/step - loss: 0.4854 - accuracy: 0.8607\n",
      "Epoch 8/30\n",
      "332/332 [==============================] - 1s 2ms/step - loss: 0.4206 - accuracy: 0.8744\n",
      "Epoch 9/30\n",
      "332/332 [==============================] - 1s 3ms/step - loss: 0.3741 - accuracy: 0.8851\n",
      "Epoch 10/30\n",
      "332/332 [==============================] - 1s 3ms/step - loss: 0.3364 - accuracy: 0.8938\n",
      "Epoch 11/30\n",
      "332/332 [==============================] - 1s 3ms/step - loss: 0.3103 - accuracy: 0.8988\n",
      "Epoch 12/30\n",
      "332/332 [==============================] - 1s 4ms/step - loss: 0.2884 - accuracy: 0.9044\n",
      "Epoch 13/30\n",
      "332/332 [==============================] - 1s 4ms/step - loss: 0.2707 - accuracy: 0.9092\n",
      "Epoch 14/30\n",
      "332/332 [==============================] - 1s 4ms/step - loss: 0.2541 - accuracy: 0.9141\n",
      "Epoch 15/30\n",
      "332/332 [==============================] - 1s 3ms/step - loss: 0.2416 - accuracy: 0.9167\n",
      "Epoch 16/30\n",
      "332/332 [==============================] - 1s 3ms/step - loss: 0.2301 - accuracy: 0.9189\n",
      "Epoch 17/30\n",
      "332/332 [==============================] - 1s 3ms/step - loss: 0.2196 - accuracy: 0.9229\n",
      "Epoch 18/30\n",
      "332/332 [==============================] - 1s 3ms/step - loss: 0.2099 - accuracy: 0.9272\n",
      "Epoch 19/30\n",
      "332/332 [==============================] - 1s 3ms/step - loss: 0.2041 - accuracy: 0.9267\n",
      "Epoch 20/30\n",
      "332/332 [==============================] - 1s 3ms/step - loss: 0.1970 - accuracy: 0.9291\n",
      "Epoch 21/30\n",
      "332/332 [==============================] - 1s 3ms/step - loss: 0.1914 - accuracy: 0.9307\n",
      "Epoch 22/30\n",
      "332/332 [==============================] - 1s 3ms/step - loss: 0.1842 - accuracy: 0.9321\n",
      "Epoch 23/30\n",
      "332/332 [==============================] - 1s 3ms/step - loss: 0.1814 - accuracy: 0.9344\n",
      "Epoch 24/30\n",
      "332/332 [==============================] - 1s 3ms/step - loss: 0.1767 - accuracy: 0.9338\n",
      "Epoch 25/30\n",
      "332/332 [==============================] - 1s 3ms/step - loss: 0.1718 - accuracy: 0.9369\n",
      "Epoch 26/30\n",
      "332/332 [==============================] - 1s 2ms/step - loss: 0.1670 - accuracy: 0.9372\n",
      "Epoch 27/30\n",
      "332/332 [==============================] - 1s 3ms/step - loss: 0.1649 - accuracy: 0.9368\n",
      "Epoch 28/30\n",
      "332/332 [==============================] - 1s 3ms/step - loss: 0.1617 - accuracy: 0.9386\n",
      "Epoch 29/30\n",
      "332/332 [==============================] - 1s 3ms/step - loss: 0.1585 - accuracy: 0.9387\n",
      "Epoch 30/30\n",
      "332/332 [==============================] - 1s 3ms/step - loss: 0.1546 - accuracy: 0.9409\n"
     ]
    },
    {
     "data": {
      "text/plain": [
       "<keras.callbacks.History at 0x15c596ab610>"
      ]
     },
     "execution_count": 13,
     "metadata": {},
     "output_type": "execute_result"
    }
   ],
   "source": [
    "model.fit(train_x, train_y, epochs = 30)"
   ]
  },
  {
   "cell_type": "code",
   "execution_count": 14,
   "metadata": {},
   "outputs": [
    {
     "name": "stdout",
     "output_type": "stream",
     "text": [
      "WARNING:tensorflow:Model was constructed with shape (None, None, 115) for input KerasTensor(type_spec=TensorSpec(shape=(None, None, 115), dtype=tf.float32, name='dense_input'), name='dense_input', description=\"created by layer 'dense_input'\"), but it was called on an input with incompatible shape (None, 115).\n",
      "83/83 [==============================] - 0s 2ms/step - loss: 2.9396 - accuracy: 0.8276\n"
     ]
    },
    {
     "data": {
      "text/plain": [
       "[2.939554452896118, 0.8276122212409973]"
      ]
     },
     "execution_count": 14,
     "metadata": {},
     "output_type": "execute_result"
    }
   ],
   "source": [
    "model.evaluate(test_x, test_y)"
   ]
  },
  {
   "cell_type": "code",
   "execution_count": 15,
   "metadata": {},
   "outputs": [
    {
     "name": "stdout",
     "output_type": "stream",
     "text": [
      "WARNING:tensorflow:Model was constructed with shape (None, None, 115) for input KerasTensor(type_spec=TensorSpec(shape=(None, None, 115), dtype=tf.float32, name='dense_input'), name='dense_input', description=\"created by layer 'dense_input'\"), but it was called on an input with incompatible shape (None, 115).\n"
     ]
    },
    {
     "data": {
      "text/plain": [
       "0.8103175044567315"
      ]
     },
     "execution_count": 15,
     "metadata": {},
     "output_type": "execute_result"
    }
   ],
   "source": [
    "from sklearn import metrics\n",
    "f1 = metrics.f1_score(lb.inverse_transform(test_y), lb.inverse_transform(model.predict(test_x)), average = 'weighted')\n",
    "f1"
   ]
  },
  {
   "cell_type": "code",
   "execution_count": 16,
   "metadata": {},
   "outputs": [
    {
     "name": "stdout",
     "output_type": "stream",
     "text": [
      "158\n"
     ]
    }
   ],
   "source": [
    "i = 0\n",
    "mismatch = 0\n",
    "npredictions = 0\n",
    "predictions = []\n",
    "mismatch_species = []\n",
    "mismatch_species_pred = []\n",
    "y_tested = []\n",
    "for y in test_y:\n",
    "    a = model.predict(test_x[i:i+1]) \n",
    "    if a.max()>0.8:\n",
    "        sp = lb.inverse_transform(np.array([y]))\n",
    "        p_sp = lb.inverse_transform(a)\n",
    "        if p_sp!=sp :\n",
    "            mismatch_species.append(sp)\n",
    "            mismatch_species_pred.append(p_sp)\n",
    "            mismatch += 1\n",
    "        npredictions += 1\n",
    "        predictions.append(p_sp)\n",
    "        y_tested.append(sp)\n",
    "    i  += 1\n",
    "print(mismatch)"
   ]
  },
  {
   "cell_type": "code",
   "execution_count": 17,
   "metadata": {},
   "outputs": [
    {
     "data": {
      "text/plain": [
       "0.8103175044567315"
      ]
     },
     "execution_count": 17,
     "metadata": {},
     "output_type": "execute_result"
    }
   ],
   "source": [
    "from sklearn import metrics\n",
    "f1 = metrics.f1_score( lb.inverse_transform(test_y), lb.inverse_transform(model.predict(test_x)), average='weighted')\n",
    "f1"
   ]
  },
  {
   "cell_type": "code",
   "execution_count": 18,
   "metadata": {},
   "outputs": [
    {
     "data": {
      "text/plain": [
       "array(['Lactobacillus reuteri', 'Staphylococcus aureus',\n",
       "       'Moraxella catarrhalis', ..., 'Mycobacterium vanbaalenii',\n",
       "       'Colwellia psychrerythraea', 'Helicobacter cinaedi'], dtype='<U50')"
      ]
     },
     "execution_count": 18,
     "metadata": {},
     "output_type": "execute_result"
    }
   ],
   "source": [
    "lb.inverse_transform(test_y)"
   ]
  },
  {
   "cell_type": "code",
   "execution_count": 19,
   "metadata": {},
   "outputs": [
    {
     "data": {
      "text/plain": [
       "(2651, 2144, 158)"
      ]
     },
     "execution_count": 19,
     "metadata": {},
     "output_type": "execute_result"
    }
   ],
   "source": [
    "i, npredictions, mismatch"
   ]
  },
  {
   "cell_type": "code",
   "execution_count": 20,
   "metadata": {},
   "outputs": [
    {
     "data": {
      "text/plain": [
       "2651"
      ]
     },
     "execution_count": 20,
     "metadata": {},
     "output_type": "execute_result"
    }
   ],
   "source": [
    "i\n",
    "# 462"
   ]
  },
  {
   "cell_type": "code",
   "execution_count": 22,
   "metadata": {},
   "outputs": [
    {
     "name": "stdout",
     "output_type": "stream",
     "text": [
      "INFO:tensorflow:Assets written to: k4-net\\assets\n"
     ]
    }
   ],
   "source": [
    "model.save(\"k4-net\")"
   ]
  },
  {
   "cell_type": "code",
   "execution_count": null,
   "metadata": {},
   "outputs": [],
   "source": []
  }
 ],
 "metadata": {
  "kernelspec": {
   "display_name": "Python 3.9.0 64-bit",
   "language": "python",
   "name": "python3"
  },
  "language_info": {
   "codemirror_mode": {
    "name": "ipython",
    "version": 3
   },
   "file_extension": ".py",
   "mimetype": "text/x-python",
   "name": "python",
   "nbconvert_exporter": "python",
   "pygments_lexer": "ipython3",
   "version": "3.9.0"
  },
  "orig_nbformat": 4,
  "vscode": {
   "interpreter": {
    "hash": "de21b79775ae6ec441be05aeae02627cf1c77ac93ea488a19c6ffa595ec3c985"
   }
  }
 },
 "nbformat": 4,
 "nbformat_minor": 2
}
